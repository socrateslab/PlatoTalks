{
 "cells": [
  {
   "cell_type": "markdown",
   "id": "49a5525d",
   "metadata": {},
   "source": [
    "# FigureA7. Heterogeneous effects by distance to the Yangtze River"
   ]
  },
  {
   "cell_type": "code",
   "execution_count": 1,
   "id": "0d5889a2",
   "metadata": {
    "ExecuteTime": {
     "end_time": "2022-05-14T13:21:58.037046Z",
     "start_time": "2022-05-14T13:21:58.017984Z"
    }
   },
   "outputs": [
    {
     "name": "stdout",
     "output_type": "stream",
     "text": [
      "/Users/chengjun/OneDrive - 南京大学/10papers/causal_inference_references/RebelCa\n",
      "> nal157781-V1/Program\n"
     ]
    }
   ],
   "source": [
    "cd .."
   ]
  },
  {
   "cell_type": "code",
   "execution_count": 2,
   "id": "6326a28b",
   "metadata": {
    "ExecuteTime": {
     "end_time": "2022-05-14T13:21:59.751537Z",
     "start_time": "2022-05-14T13:21:59.733285Z"
    }
   },
   "outputs": [
    {
     "name": "stdout",
     "output_type": "stream",
     "text": [
      "/Users/chengjun/OneDrive - 南京大学/10papers/causal_inference_references/RebelCa\n",
      "> nal157781-V1\n"
     ]
    }
   ],
   "source": [
    "cd .."
   ]
  },
  {
   "cell_type": "code",
   "execution_count": 3,
   "id": "c2ad086f",
   "metadata": {
    "ExecuteTime": {
     "end_time": "2022-05-14T13:22:18.868300Z",
     "start_time": "2022-05-14T13:22:18.846112Z"
    }
   },
   "outputs": [
    {
     "name": "stdout",
     "output_type": "stream",
     "text": [
      "  [1]              \"/Users/chengjun/Library/Application Support/Stata/ado/plus/\"\n",
      "  [2]  (BASE)      \"/Applications/Stata/ado/base/\"\n",
      "  [3]  (SITE)      \"/Applications/Stata/ado/site/\"\n",
      "  [4]              \".\"\n",
      "  [5]  (PERSONAL)  \"/Users/chengjun/Documents/Stata/ado/personal/\"\n",
      "  [6]  (PLUS)      \"/Users/chengjun/Library/Application Support/Stata/ado/plus/\"\n",
      "  [7]  (OLDPLACE)  \"~/ado/\"\n",
      "  [8]              \"/opt/anaconda3/lib/python3.8/site-packages/stata_kernel/ado\"\n"
     ]
    }
   ],
   "source": [
    "adopath ++ \"/Users/chengjun/Library/Application Support/Stata/ado/plus/\"\n"
   ]
  },
  {
   "cell_type": "code",
   "execution_count": 21,
   "id": "6bff2f73",
   "metadata": {
    "ExecuteTime": {
     "end_time": "2022-05-14T13:28:17.766197Z",
     "start_time": "2022-05-14T13:28:16.800180Z"
    }
   },
   "outputs": [
    {
     "name": "stdout",
     "output_type": "stream",
     "text": [
      "\n",
      "\n",
      "\n",
      "not available in non-GUI version\n",
      "\n"
     ]
    }
   ],
   "source": [
    "**************************************************************************\n",
    "*** Set up\n",
    "**************************************************************************\n",
    "use \"Data/Final/rebellion.dta\", clear\n",
    "run \"Program/Analysis/generalsetup.do\"\n",
    "graph set window fontface \"Cambria\"\n",
    "set scheme s2color"
   ]
  },
  {
   "cell_type": "code",
   "execution_count": 22,
   "id": "0cbe5154",
   "metadata": {
    "ExecuteTime": {
     "end_time": "2022-05-14T13:28:19.844054Z",
     "start_time": "2022-05-14T13:28:19.799839Z"
    }
   },
   "outputs": [],
   "source": [
    "\n",
    "**************************************************************************\n",
    "*** FigureA7. Heterogeneous effects by distance to the Yangtze River\n",
    "**************************************************************************\n",
    "mat result = (., ., ., .)\n",
    "capture program drop svresult\n",
    "program define svresult\n",
    "    args distance_yangtze\n",
    "    qui {\n",
    "        reghdfe $Y $X $ctrls ///\n",
    "        if distance_yangtze >= `distance_yangtze' - 100 & distance_yangtze < `distance_yangtze', ///\n",
    "        a(i.OBJECTID i.year c.ashprerebels#i.year i.provid#i.year i.prefid#c.year) cl(OBJECTID)\n",
    "        scalar b = _b[inter]\n",
    "        scalar se = _se[inter]\n",
    "        scalar uci_95 = _b[inter] + invttail(e(df_r), 0.025)*se\n",
    "        scalar lci_95 = _b[inter] - invttail(e(df_r), 0.025)*se\n",
    "        mat result = (result\\ `distance_yangtze', b, lci_95, uci_95)\n",
    "    }\n",
    "end\n",
    "\n"
   ]
  },
  {
   "cell_type": "code",
   "execution_count": 23,
   "id": "882d2184",
   "metadata": {
    "ExecuteTime": {
     "end_time": "2022-05-14T13:28:27.778015Z",
     "start_time": "2022-05-14T13:28:21.951593Z"
    }
   },
   "outputs": [
    {
     "name": "stdout",
     "output_type": "stream",
     "text": [
      "\n",
      "----+--- 1 ---+--- 2 ---+--- 3 ---+--- 4 ---+--- 5 \n",
      "\n",
      ".   100\n",
      ".   200\n",
      ".   300\n",
      ".   400\n"
     ]
    }
   ],
   "source": [
    "_dots 0\n",
    "forvalues i = 100(100)400 {\n",
    "    svresult `i'\n",
    "    _dots `i' 0\n",
    "}\n"
   ]
  },
  {
   "cell_type": "code",
   "execution_count": 25,
   "id": "83d2448f",
   "metadata": {
    "ExecuteTime": {
     "end_time": "2022-05-14T13:28:36.256115Z",
     "start_time": "2022-05-14T13:28:36.206425Z"
    }
   },
   "outputs": [
    {
     "name": "stdout",
     "output_type": "stream",
     "text": [
      "\n",
      "\n",
      "number of observations will be reset to 5\n",
      "Press any key to continue, or Break to abort\n",
      "--more--\n"
     ]
    }
   ],
   "source": [
    "\n",
    "clear\n",
    "svmat result\n",
    "\n"
   ]
  },
  {
   "cell_type": "code",
   "execution_count": 26,
   "id": "ed60d8d5",
   "metadata": {
    "ExecuteTime": {
     "end_time": "2022-05-14T13:28:38.668702Z",
     "start_time": "2022-05-14T13:28:38.622788Z"
    }
   },
   "outputs": [
    {
     "name": "stdout",
     "output_type": "stream",
     "text": [
      "(1 observation deleted)\n"
     ]
    }
   ],
   "source": [
    "drop in 1"
   ]
  },
  {
   "cell_type": "code",
   "execution_count": 27,
   "id": "a25afd59",
   "metadata": {
    "ExecuteTime": {
     "end_time": "2022-05-14T13:28:40.446423Z",
     "start_time": "2022-05-14T13:28:40.397394Z"
    }
   },
   "outputs": [
    {
     "name": "stdout",
     "output_type": "stream",
     "text": [
      "\n",
      "\n",
      "\n",
      "\n",
      "\n",
      "file Data/Interim/distance_yangtze.txt saved\n"
     ]
    }
   ],
   "source": [
    "rename result1 dist\n",
    "rename result2 coef\n",
    "rename result3 lci_95\n",
    "rename result4 rci_95\n",
    "export delimited \"Data/Interim/distance_yangtze.txt\", delimit(tab) replace"
   ]
  },
  {
   "cell_type": "code",
   "execution_count": 28,
   "id": "268d90ec",
   "metadata": {
    "ExecuteTime": {
     "end_time": "2022-05-14T13:28:46.565535Z",
     "start_time": "2022-05-14T13:28:45.006803Z"
    }
   },
   "outputs": [
    {
     "name": "stdout",
     "output_type": "stream",
     "text": [
      "\n",
      "(encoding automatically selected: ISO-8859-1)\n",
      "(4 vars, 4 obs)\n",
      "\n",
      "(note:  named style Gray not found in class color, default attributes used)\n",
      "(note:  named style Gray not found in class color, default attributes used)\n",
      "\n",
      "file /Users/chengjun/.stata_kernel_cache/graph.svg saved as SVG format\n",
      "file /Users/chengjun/.stata_kernel_cache/graph.pdf saved as PDF format\n",
      "\n",
      "file Results/Figures/figureA7.pdf saved as PDF format\n"
     ]
    }
   ],
   "source": [
    "import delimited using \"Data/Interim/distance_yangtze.txt\", clear\n",
    "#d ;\n",
    "twoway \n",
    "(rcap rci_95 lci_95 dist, lcolor(Gray) lpattern(dash) lwidth(thin) msize(*0.75))\n",
    "(scatter coef dist, color(gs0) msize(*0.75))\n",
    ",\n",
    "ytitle(\"Coefficients\", size(*0.9)) \n",
    "xtitle(\"Distance to the Yangtze river\", size(*0.9) margin(medsmall))\n",
    "yline(0(0.05)0.3, lstyle(grid) lwidth(thin) lcolor(\"235 235 235\"))\n",
    "yline(0, lpattern(dash) lcolor(\"128 0 0\"))\n",
    "xline(100(50)400, lstyle(grid) lwidth(thin) lcolor(\"235 235 235\"))\n",
    "ylabel(0(0.1)0.3, angle(0) format(%5.1f) labsize(*0.85))\n",
    "xlabel(, labsize(*0.85)) \n",
    "graphregion(fcolor(gs16) lcolor(gs16)) \n",
    "plotregion(lcolor(\"white\") lwidth(*0.9))\n",
    "legend(off)\n",
    ";\n",
    "#d cr\n",
    "graph export \"Results/Figures/figureA7.pdf\", replace"
   ]
  },
  {
   "cell_type": "code",
   "execution_count": 29,
   "id": "389091bd",
   "metadata": {
    "ExecuteTime": {
     "end_time": "2022-05-14T13:29:01.355861Z",
     "start_time": "2022-05-14T13:28:59.027823Z"
    }
   },
   "outputs": [
    {
     "name": "stdout",
     "output_type": "stream",
     "text": [
      "(file Results/Figures/figureA7.png not found)\n",
      "file Results/Figures/figureA7.png written in PNG format\n"
     ]
    }
   ],
   "source": [
    "graph export \"Results/Figures/figureA7.png\", replace"
   ]
  },
  {
   "attachments": {
    "image.png": {
     "image/png": "[encoded data removed]"
    }
   },
   "cell_type": "markdown",
   "id": "35dd8d52",
   "metadata": {},
   "source": [
    "![image.png](attachment:image.png)\n",
    "\n",
    "Note. The figure depicts the changes in rebellions before and after the 1826 reform by a county’s distance to the Yangtze River. The markers and capped spikes represent the OLS estimators and 95% confidence intervals. The dependent variable is the inverse hyperbolic sine of the number of rebellions normalized by population. The regression considers county and year fixed effects, pretreatment rebellions times year dummies, province-year fixed effects, and prefecture-specific year trends. Standard errors are clustered at the county level."
   ]
  },
  {
   "cell_type": "code",
   "execution_count": 30,
   "id": "89e1d502",
   "metadata": {
    "ExecuteTime": {
     "end_time": "2022-05-14T13:29:46.542540Z",
     "start_time": "2022-05-14T13:29:46.362558Z"
    }
   },
   "outputs": [
    {
     "name": "stdout",
     "output_type": "stream",
     "text": [
      "\n",
      "(file Results/Figures/figureA7.tex not found)\n",
      "\n",
      "\n",
      "\n",
      "\n",
      "\n",
      "\n",
      "\n",
      "\n",
      "\n",
      "\n",
      "\n",
      "\n"
     ]
    }
   ],
   "source": [
    "**************************************************************************\n",
    "*** Write to Latex\n",
    "**************************************************************************\n",
    "file open f using \"Results/Figures/figureA7.tex\", write replace\n",
    "file write f \"\\begin{figure}[p]\\captionsetup{justification=centering,singlelinecheck=false,width=0.8\\textwidth}\" _n\n",
    "file write f \"\\begin{center}\" _n\n",
    "file write f \"\\caption{Heterogeneous effects by distance to the Yangtze River}  \" _n\n",
    "file write f \"\\includegraphics[width=.8\\textwidth]{Figures/figureA7.pdf}\\\\ \" _n\n",
    "file write f \"\\end{center}\" _n\n",
    "file write f \"\\footnotesize{\\textit{Note.} The figure depicts the changes in rebellions before and after the 1826 reform by a county's distance to the Yangtze River. \"\n",
    "file write f \"The markers and capped spikes represent the OLS estimators and 95\\% confidence intervals. \"\n",
    "file write f \"The dependent variable is the inverse hyperbolic sine of the number of rebellions normalized by population. \"\n",
    "file write f \"The regression considers county and year fixed effects, pretreatment rebellions times year dummies, province-year fixed effects, and prefecture-specific year trends. }\"\n",
    "file write f \"Standard errors are clustered at the county level. \"\n",
    "file write f \"\\end{figure}\" _n\n",
    "file close f"
   ]
  },
  {
   "cell_type": "code",
   "execution_count": null,
   "id": "c88bca38",
   "metadata": {},
   "outputs": [],
   "source": []
  }
 ],
 "metadata": {
  "kernelspec": {
   "display_name": "Stata",
   "language": "stata",
   "name": "stata"
  },
  "language_info": {
   "codemirror_mode": "stata",
   "file_extension": ".do",
   "mimetype": "text/x-stata",
   "name": "stata",
   "version": "15.1"
  },
  "toc": {
   "toc_cell": false,
   "toc_number_sections": true,
   "toc_threshold": 6,
   "toc_window_display": false
  }
 },
 "nbformat": 4,
 "nbformat_minor": 5
}
