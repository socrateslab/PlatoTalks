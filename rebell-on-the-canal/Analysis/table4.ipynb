{
 "cells": [
  {
   "cell_type": "markdown",
   "id": "c821295a",
   "metadata": {},
   "source": [
    "# Table4. Canal closure and rebellions: treatment intensities"
   ]
  },
  {
   "cell_type": "code",
   "execution_count": 1,
   "id": "c670825b",
   "metadata": {
    "ExecuteTime": {
     "end_time": "2022-05-14T15:48:57.804492Z",
     "start_time": "2022-05-14T15:48:57.775605Z"
    }
   },
   "outputs": [
    {
     "name": "stdout",
     "output_type": "stream",
     "text": [
      "/Users/chengjun/OneDrive - 南京大学/10papers/causal_inference_references/RebelCa\n",
      "> nal157781-V1/Program\n"
     ]
    }
   ],
   "source": [
    "cd .."
   ]
  },
  {
   "cell_type": "code",
   "execution_count": 2,
   "id": "40afc837",
   "metadata": {
    "ExecuteTime": {
     "end_time": "2022-05-14T15:48:59.749611Z",
     "start_time": "2022-05-14T15:48:59.723376Z"
    }
   },
   "outputs": [
    {
     "name": "stdout",
     "output_type": "stream",
     "text": [
      "/Users/chengjun/OneDrive - 南京大学/10papers/causal_inference_references/RebelCa\n",
      "> nal157781-V1\n"
     ]
    }
   ],
   "source": [
    "cd .."
   ]
  },
  {
   "cell_type": "code",
   "execution_count": 3,
   "id": "3cbb6b60",
   "metadata": {
    "ExecuteTime": {
     "end_time": "2022-05-14T15:49:10.913527Z",
     "start_time": "2022-05-14T15:49:10.882043Z"
    }
   },
   "outputs": [
    {
     "name": "stdout",
     "output_type": "stream",
     "text": [
      "  [1]              \"/Users/chengjun/Library/Application Support/Stata/ado/plus/\"\n",
      "  [2]  (BASE)      \"/Applications/Stata/ado/base/\"\n",
      "  [3]  (SITE)      \"/Applications/Stata/ado/site/\"\n",
      "  [4]              \".\"\n",
      "  [5]  (PERSONAL)  \"/Users/chengjun/Documents/Stata/ado/personal/\"\n",
      "  [6]  (PLUS)      \"/Users/chengjun/Library/Application Support/Stata/ado/plus/\"\n",
      "  [7]  (OLDPLACE)  \"~/ado/\"\n",
      "  [8]              \"/opt/anaconda3/lib/python3.8/site-packages/stata_kernel/ado\"\n"
     ]
    }
   ],
   "source": [
    "adopath ++ \"/Users/chengjun/Library/Application Support/Stata/ado/plus/\"\n"
   ]
  },
  {
   "cell_type": "code",
   "execution_count": 4,
   "id": "12d5f021",
   "metadata": {
    "ExecuteTime": {
     "end_time": "2022-05-14T15:49:20.738121Z",
     "start_time": "2022-05-14T15:49:19.803340Z"
    }
   },
   "outputs": [],
   "source": [
    "**************************************************************************\n",
    "*** Set up\n",
    "**************************************************************************\n",
    "use \"Data/Final/rebellion.dta\", clear\n",
    "run \"Program/Analysis/generalsetup.do\"\n"
   ]
  },
  {
   "cell_type": "code",
   "execution_count": 5,
   "id": "a98c4171",
   "metadata": {
    "ExecuteTime": {
     "end_time": "2022-05-14T15:49:35.252748Z",
     "start_time": "2022-05-14T15:49:35.129940Z"
    }
   },
   "outputs": [
    {
     "name": "stdout",
     "output_type": "stream",
     "text": [
      "\n",
      "\n",
      "(11,266 missing values generated)\n",
      "\n",
      "\n",
      "(11,266 missing values generated)\n",
      "\n",
      "(12,052 missing values generated)\n",
      "\n",
      "\n",
      "\n",
      "\n",
      "\n",
      "\n",
      "\n"
     ]
    }
   ],
   "source": [
    "**************************************************************************\n",
    "*** Table4. Canal closure and rebellions: treatment intensities\n",
    "**************************************************************************\n",
    "gen ash_den=asinh(canal_den)\n",
    "gen ash_dist=asinh(ctadmin_canal)\n",
    "gen ash_den_after=ash_den*reform\n",
    "gen ash_dist_after=ash_dist*reform\n",
    "gen canaltown_after=(town1820_r10canal*alongcanal)/town1820*reform\n",
    "label variable ash_den_after \"Canal length (per 100 $ km^2 $) $ \\times $ Post\"\n",
    "label variable ash_dist_after \"Distance to canal $ \\times $ Post\"\n",
    "label variable canaltown \"Canal town share\"\n",
    "label variable canaltown_after \"Canal town share $ \\times $ Post\"\n",
    "global X1 ash_den_after\n",
    "global X2 canaltown_after\n",
    "global X3 ash_dist_after"
   ]
  },
  {
   "cell_type": "code",
   "execution_count": 6,
   "id": "a3200162",
   "metadata": {
    "ExecuteTime": {
     "end_time": "2022-05-14T15:49:55.113786Z",
     "start_time": "2022-05-14T15:49:48.499392Z"
    }
   },
   "outputs": [
    {
     "name": "stdout",
     "output_type": "stream",
     "text": [
      "\n",
      "(MWFE estimator converged in 7 iterations)\n",
      "\n",
      "HDFE Linear regression                            Number of obs   =    140,432\n",
      "Absorbing 5 HDFE groups                           F(   1,    535) =       3.72\n",
      "Statistics robust to heteroskedasticity           Prob > F        =     0.0541\n",
      "                                                  R-squared       =     0.0662\n",
      "                                                  Adj R-squared   =     0.0497\n",
      "                                                  Within R-sq.    =     0.0002\n",
      "Number of clusters (OBJECTID) =        536        Root MSE        =     0.3800\n",
      "\n",
      "                              (Std. err. adjusted for 536 clusters in OBJECTID)\n",
      "-------------------------------------------------------------------------------\n",
      "              |               Robust\n",
      "ashonset_c~00 | Coefficient  std. err.      t    P>|t|     [95% conf. interval]\n",
      "--------------+----------------------------------------------------------------\n",
      "ash_den_after |   .0199899   .0103576     1.93   0.054    -.0003566    .0403364\n",
      "        _cons |   .0315376   .0007463    42.26   0.000     .0300717    .0330036\n",
      "-------------------------------------------------------------------------------\n",
      "\n",
      "Absorbed degrees of freedom:\n",
      "-------------------------------------------------------------+\n",
      "         Absorbed FE | Categories  - Redundant  = Num. Coefs |\n",
      "---------------------+---------------------------------------|\n",
      "            OBJECTID |       536         536           0    *|\n",
      "                year |       262           1         261     |\n",
      " year#c.ashprerebels |       262           0         262    ?|\n",
      "         provid#year |      1572         262        1310     |\n",
      "       prefid#c.year |        75           0          75    ?|\n",
      "-------------------------------------------------------------+\n",
      "? = number of redundant parameters may be higher\n",
      "* = FE nested within cluster; treated as redundant for DoF computation\n",
      "\n",
      "\n",
      "\n",
      "\n",
      "\n",
      "    Variable |        Obs        Mean    Std. dev.       Min        Max\n",
      "-------------+---------------------------------------------------------\n",
      "ash~ypop1600 |    140,432    .0329779     .389762          0   6.674471\n",
      "\n",
      "\n",
      "\n",
      "\n",
      "(MWFE estimator converged in 7 iterations)\n",
      "\n",
      "HDFE Linear regression                            Number of obs   =    129,166\n",
      "Absorbing 5 HDFE groups                           F(   1,    492) =       6.95\n",
      "Statistics robust to heteroskedasticity           Prob > F        =     0.0087\n",
      "                                                  R-squared       =     0.0692\n",
      "                                                  Adj R-squared   =     0.0515\n",
      "                                                  Within R-sq.    =     0.0003\n",
      "Number of clusters (OBJECTID) =        493        Root MSE        =     0.3806\n",
      "\n",
      "                              (Std. err. adjusted for 493 clusters in OBJECTID)\n",
      "-------------------------------------------------------------------------------\n",
      "              |               Robust\n",
      "ashonset_c~00 | Coefficient  std. err.      t    P>|t|     [95% conf. interval]\n",
      "--------------+----------------------------------------------------------------\n",
      "canaltown_a~r |   .0769604   .0291989     2.64   0.009     .0195906    .1343303\n",
      "        _cons |   .0315157    .000696    45.28   0.000     .0301481    .0328833\n",
      "-------------------------------------------------------------------------------\n",
      "\n",
      "Absorbed degrees of freedom:\n",
      "-------------------------------------------------------------+\n",
      "         Absorbed FE | Categories  - Redundant  = Num. Coefs |\n",
      "---------------------+---------------------------------------|\n",
      "            OBJECTID |       493         493           0    *|\n",
      "                year |       262           1         261     |\n",
      " year#c.ashprerebels |       262           0         262    ?|\n",
      "         provid#year |      1572         262        1310     |\n",
      "       prefid#c.year |        75           0          75    ?|\n",
      "-------------------------------------------------------------+\n",
      "? = number of redundant parameters may be higher\n",
      "* = FE nested within cluster; treated as redundant for DoF computation\n",
      "\n",
      "\n",
      "\n",
      "\n",
      "\n",
      "    Variable |        Obs        Mean    Std. dev.       Min        Max\n",
      "-------------+---------------------------------------------------------\n",
      "ash~ypop1600 |    129,166    .0333503     .390775          0   6.674471\n",
      "\n",
      "\n",
      "\n",
      "\n",
      "(MWFE estimator converged in 8 iterations)\n",
      "\n",
      "HDFE Linear regression                            Number of obs   =    130,476\n",
      "Absorbing 5 HDFE groups                           F(   1,    497) =      14.32\n",
      "Statistics robust to heteroskedasticity           Prob > F        =     0.0002\n",
      "                                                  R-squared       =     0.0661\n",
      "                                                  Adj R-squared   =     0.0485\n",
      "                                                  Within R-sq.    =     0.0002\n",
      "Number of clusters (OBJECTID) =        498        Root MSE        =     0.3770\n",
      "\n",
      "                              (Std. err. adjusted for 498 clusters in OBJECTID)\n",
      "-------------------------------------------------------------------------------\n",
      "              |               Robust\n",
      "ashonset_c~00 | Coefficient  std. err.      t    P>|t|     [95% conf. interval]\n",
      "--------------+----------------------------------------------------------------\n",
      "ash_dist_af~r |  -.0142339   .0037616    -3.78   0.000    -.0216245   -.0068432\n",
      "        _cons |   .0560806   .0063114     8.89   0.000     .0436802     .068481\n",
      "-------------------------------------------------------------------------------\n",
      "\n",
      "Absorbed degrees of freedom:\n",
      "-------------------------------------------------------------+\n",
      "         Absorbed FE | Categories  - Redundant  = Num. Coefs |\n",
      "---------------------+---------------------------------------|\n",
      "            OBJECTID |       498         498           0    *|\n",
      "                year |       262           1         261     |\n",
      " year#c.ashprerebels |       262           0         262    ?|\n",
      "         provid#year |      1572         262        1310     |\n",
      "       prefid#c.year |        75           0          75    ?|\n",
      "-------------------------------------------------------------+\n",
      "? = number of redundant parameters may be higher\n",
      "* = FE nested within cluster; treated as redundant for DoF computation\n",
      "\n",
      "\n",
      "\n",
      "\n",
      "\n",
      "    Variable |        Obs        Mean    Std. dev.       Min        Max\n",
      "-------------+---------------------------------------------------------\n",
      "ash~ypop1600 |    130,476    .0321983    .3865104          0   6.674471\n",
      "\n",
      "\n",
      "\n",
      "\n"
     ]
    }
   ],
   "source": [
    "reghdfe $Y $X1, absorb(i.OBJECTID i.year c.ashprerebels#i.year i.provid#i.year i.prefid#c.year) cluster(OBJECTID)\n",
    "estimates store int1\n",
    "qui tab OBJECTID if e(sample)\n",
    "scalar groups=r(r)\n",
    "su $Y if e(sample)\n",
    "scalar ymean=r(mean)\n",
    "estadd scalar depavg=ymean:int1\n",
    "estadd scalar N_g=groups:int1\n",
    "\n",
    "\n",
    "reghdfe $Y $X2, absorb(i.OBJECTID i.year c.ashprerebels#i.year i.provid#i.year i.prefid#c.year) cluster(OBJECTID)\n",
    "estimates store int2\n",
    "qui tab OBJECTID if e(sample)\n",
    "scalar groups=r(r)\n",
    "su $Y if e(sample)\n",
    "scalar ymean=r(mean)\n",
    "estadd scalar depavg=ymean:int2\n",
    "estadd scalar N_g=groups:int2\n",
    "\n",
    "\n",
    "reghdfe $Y $X3, absorb(i.OBJECTID i.year c.ashprerebels#i.year i.provid#i.year i.prefid#c.year) cluster(OBJECTID)\n",
    "estimates store int3\n",
    "qui tab OBJECTID if e(sample)\n",
    "scalar groups=r(r)\n",
    "su $Y if e(sample)\n",
    "scalar ymean=r(mean)\n",
    "estadd scalar depavg=ymean:int3\n",
    "estadd scalar N_g=groups:int3\n",
    "\n",
    "*** Get indicators of FEs\n",
    "estfe int1 int2 int3"
   ]
  },
  {
   "cell_type": "code",
   "execution_count": 7,
   "id": "21152e11",
   "metadata": {
    "ExecuteTime": {
     "end_time": "2022-05-14T15:51:03.604677Z",
     "start_time": "2022-05-14T15:50:00.338849Z"
    }
   },
   "outputs": [
    {
     "name": "stdout",
     "output_type": "stream",
     "text": [
      "\n",
      "\n",
      "(cachevars: year OBJECTID)\n",
      "(converged in 5 iterations)\n",
      "\n",
      " \n",
      "OLS REGRESSION\n",
      " \n",
      "SE CORRECTED FOR CROSS-SECTIONAL SPATIAL DEPENDANCE\n",
      "             AND PANEL-SPECIFIC SERIAL CORRELATION\n",
      " \n",
      "DEPENDANT VARIABLE: ashonset_cntypop1600\n",
      "INDEPENDANT VARIABLES:  ash_den_after\n",
      " \n",
      "SPATIAL CORRELATION KERNAL CUTOFF: 500 KM\n",
      "SERIAL CORRELATION KERNAL CUTOFF: 262 PERIODS\n",
      "-------------------------------------------------------------------------------\n",
      "ashonset~1600 | Coefficient  Std. err.      t    P>|t|     [95% conf. interval]\n",
      "--------------+----------------------------------------------------------------\n",
      "ash_den_after |   .0201138   .0094478     2.13   0.033     .0015963    .0386312\n",
      "-------------------------------------------------------------------------------\n",
      " \n",
      "STANDARD ERRORS UNDER OLS, WITH SPATIAL CORRECTION AND WITH SPATIAL AND SERIAL C\n",
      "> ORRECTION:\n",
      "\n",
      "-----------------------------------------------\n",
      "    Variable |   OLS      spatial    spatHAC   \n",
      "-------------+---------------------------------\n",
      "ash_den_af~r |    0.020      0.020      0.020  \n",
      "             |    0.004      0.007      0.009  \n",
      "             |    5.078      3.011      2.129  \n",
      "-------------+---------------------------------\n",
      "           N |   140432     140432     140432  \n",
      "          r2 |    0.000      0.000      0.000  \n",
      "-----------------------------------------------\n",
      "                                 Legend: b/se/t\n",
      " \n",
      "STANDARD ERRORS UNDER OLS, WITH SPATIAL CORRECTION AND WITH SPATIAL AND SERIAL C\n",
      "> ORRECTION:\n",
      "\n",
      "-----------------------------------------------------\n",
      "    Variable |    OLS        spatial      spatHAC    \n",
      "-------------+---------------------------------------\n",
      "ash_den_af~r |   0.020***     0.020***     0.020**   \n",
      "-----------------------------------------------------\n",
      "                  Legend: * p<.1; ** p<.05; *** p<.01\n",
      "\n",
      "\n",
      "\n",
      "\n",
      "\n",
      "\n",
      "(cachevars: year OBJECTID)\n",
      "(converged in 5 iterations)\n",
      "\n",
      " \n",
      "OLS REGRESSION\n",
      " \n",
      "SE CORRECTED FOR CROSS-SECTIONAL SPATIAL DEPENDANCE\n",
      "             AND PANEL-SPECIFIC SERIAL CORRELATION\n",
      " \n",
      "DEPENDANT VARIABLE: ashonset_cntypop1600\n",
      "INDEPENDANT VARIABLES:  canaltown_after\n",
      " \n",
      "SPATIAL CORRELATION KERNAL CUTOFF: 500 KM\n",
      "SERIAL CORRELATION KERNAL CUTOFF: 262 PERIODS\n",
      "-------------------------------------------------------------------------------\n",
      "ashonset~1600 | Coefficient  Std. err.      t    P>|t|     [95% conf. interval]\n",
      "--------------+----------------------------------------------------------------\n",
      "canaltown_a~r |   .0775562   .0269405     2.88   0.004     .0247532    .1303592\n",
      "-------------------------------------------------------------------------------\n",
      " \n",
      "STANDARD ERRORS UNDER OLS, WITH SPATIAL CORRECTION AND WITH SPATIAL AND SERIAL C\n",
      "> ORRECTION:\n",
      "\n",
      "-----------------------------------------------\n",
      "    Variable |   OLS      spatial    spatHAC   \n",
      "-------------+---------------------------------\n",
      "canaltown_~r |    0.078      0.078      0.078  \n",
      "             |    0.012      0.021      0.027  \n",
      "             |    6.548      3.629      2.879  \n",
      "-------------+---------------------------------\n",
      "           N |   129166     129166     129166  \n",
      "          r2 |    0.000      0.000      0.000  \n",
      "-----------------------------------------------\n",
      "                                 Legend: b/se/t\n",
      " \n",
      "STANDARD ERRORS UNDER OLS, WITH SPATIAL CORRECTION AND WITH SPATIAL AND SERIAL C\n",
      "> ORRECTION:\n",
      "\n",
      "-----------------------------------------------------\n",
      "    Variable |    OLS        spatial      spatHAC    \n",
      "-------------+---------------------------------------\n",
      "canaltown_~r |   0.078***     0.078***     0.078***  \n",
      "-----------------------------------------------------\n",
      "                  Legend: * p<.1; ** p<.05; *** p<.01\n",
      "\n",
      "\n",
      "\n",
      "\n",
      "\n",
      "\n",
      "(cachevars: year OBJECTID)\n",
      "(converged in 5 iterations)\n",
      "\n",
      " \n",
      "OLS REGRESSION\n",
      " \n",
      "SE CORRECTED FOR CROSS-SECTIONAL SPATIAL DEPENDANCE\n",
      "             AND PANEL-SPECIFIC SERIAL CORRELATION\n",
      " \n",
      "DEPENDANT VARIABLE: ashonset_cntypop1600\n",
      "INDEPENDANT VARIABLES:  ash_dist_after\n",
      " \n",
      "SPATIAL CORRELATION KERNAL CUTOFF: 500 KM\n",
      "SERIAL CORRELATION KERNAL CUTOFF: 262 PERIODS\n",
      "-------------------------------------------------------------------------------\n",
      "ashonset~1600 | Coefficient  Std. err.      t    P>|t|     [95% conf. interval]\n",
      "--------------+----------------------------------------------------------------\n",
      "ash_dist_af~r |  -.0143152   .0046208    -3.10   0.002    -.0233719   -.0052585\n",
      "-------------------------------------------------------------------------------\n",
      " \n",
      "STANDARD ERRORS UNDER OLS, WITH SPATIAL CORRECTION AND WITH SPATIAL AND SERIAL C\n",
      "> ORRECTION:\n",
      "\n",
      "-----------------------------------------------\n",
      "    Variable |   OLS      spatial    spatHAC   \n",
      "-------------+---------------------------------\n",
      "ash_dist_a~r |   -0.014     -0.014     -0.014  \n",
      "             |    0.003      0.005      0.005  \n",
      "             |   -5.628     -3.176     -3.098  \n",
      "-------------+---------------------------------\n",
      "           N |   130476     130476     130476  \n",
      "          r2 |    0.000      0.000      0.000  \n",
      "-----------------------------------------------\n",
      "                                 Legend: b/se/t\n",
      " \n",
      "STANDARD ERRORS UNDER OLS, WITH SPATIAL CORRECTION AND WITH SPATIAL AND SERIAL C\n",
      "> ORRECTION:\n",
      "\n",
      "-----------------------------------------------------\n",
      "    Variable |    OLS        spatial      spatHAC    \n",
      "-------------+---------------------------------------\n",
      "ash_dist_a~r |  -0.014***    -0.014***    -0.014***  \n",
      "-----------------------------------------------------\n",
      "                  Legend: * p<.1; ** p<.05; *** p<.01\n",
      "\n",
      "\n",
      "\n",
      "\n"
     ]
    }
   ],
   "source": [
    "*** Get Conley standard errors\n",
    "preserve\n",
    "hdfe $Y $X1, clear absorb(i.OBJECTID i.year c.ashprerebels#i.year i.provid#i.year i.prefid#c.year) tol(0.001) keepvars(OBJECTID year Y_COORD X_COORD)\n",
    "ols_spatial_HAC $Y $X1, lat(Y_COORD) lon(X_COORD) time(year) panel(OBJECTID) distcutoff(500) lagcutoff(262) disp star\n",
    "matrix V_spat=vecdiag(e(V)) \n",
    "matmap V_spat SE_spat, m(sqrt(@)) \n",
    "estadd matrix sesp=SE_spat: int1\n",
    "restore\n",
    "preserve\n",
    "hdfe $Y $X2, clear absorb(i.OBJECTID i.year c.ashprerebels#i.year i.provid#i.year i.prefid#c.year) tol(0.001) keepvars(OBJECTID year Y_COORD X_COORD)\n",
    "ols_spatial_HAC $Y $X2, lat(Y_COORD) lon(X_COORD) time(year) panel(OBJECTID) distcutoff(500) lagcutoff(262) disp star\n",
    "matrix V_spat=vecdiag(e(V)) \n",
    "matmap V_spat SE_spat, m(sqrt(@)) \n",
    "estadd matrix sesp=SE_spat: int2\n",
    "restore\n",
    "preserve\n",
    "hdfe $Y $X3, clear absorb(i.OBJECTID i.year c.ashprerebels#i.year i.provid#i.year i.prefid#c.year) tol(0.001) keepvars(OBJECTID year Y_COORD X_COORD)\n",
    "ols_spatial_HAC $Y $X3, lat(Y_COORD) lon(X_COORD) time(year) panel(OBJECTID) distcutoff(500) lagcutoff(262) disp star\n",
    "matrix V_spat=vecdiag(e(V)) \n",
    "matmap V_spat SE_spat, m(sqrt(@)) \n",
    "estadd matrix sesp=SE_spat: int3\n",
    "restore"
   ]
  },
  {
   "cell_type": "code",
   "execution_count": 8,
   "id": "e104b404",
   "metadata": {
    "ExecuteTime": {
     "end_time": "2022-05-14T15:51:03.703186Z",
     "start_time": "2022-05-14T15:51:03.607187Z"
    }
   },
   "outputs": [],
   "source": [
    "**************************************************************************\n",
    "*** Set up table elements for Latex\n",
    "**************************************************************************\n",
    "\n",
    "*** Title\n",
    "global caption \"Canal closure and rebellions: treatment intensities\"\n",
    "\n",
    "*** Table head\n",
    "#delimit ;\n",
    "global head\n",
    "    \\begin{table}[htb]\\centering\n",
    "    \\caption{$caption }  \\begin{threeparttable}\n",
    "\t\\begin{tabular}{l*{3}{c}} \n",
    "\t\\toprule\\toprule \n",
    "\t& \\multicolumn{3}{c}{\\textit{Dependent variable:} Rebellions} \\\\ \n",
    "\t[.1cm] \\cmidrule(lr){2-4}\n",
    "\t;\n",
    "#delimit cr\n",
    "*** Table notes\n",
    "run \"Program/Analysis/generalnotes.do\"\n",
    "global note_length \"$ Canal\\ Length $ (per 100 $ km^2 $) is the length of the canal portion (in $ km $) contained with the county's boundary, divided by the size of the county (in 100 $ km^2 $). \"\n",
    "global note_townshare \"$ Canal\\ Town\\ Share $ is the share of towns within 10 kilometers away from the canal, measured in 1820. \"\n",
    "global note_dist \"$ Distance\\ to\\ canal $ is the distance from a county's geological center to the canal.\"\n",
    "global notes \"\\begin{tablenotes}\\footnotesize{\\item \\textit{Note.} $note_sample $note_dep $note_length $note_townshare $note_dist $note_post $note_std $note_conley }\\end{tablenotes}\""
   ]
  },
  {
   "cell_type": "code",
   "execution_count": 9,
   "id": "da886195",
   "metadata": {
    "ExecuteTime": {
     "end_time": "2022-05-14T15:51:07.341331Z",
     "start_time": "2022-05-14T15:51:07.168401Z"
    }
   },
   "outputs": [
    {
     "name": "stdout",
     "output_type": "stream",
     "text": [
      "\n",
      "(file Results/Tables/table4.tex not found)\n",
      "(output written to Results/Tables/table4.tex)\n"
     ]
    }
   ],
   "source": [
    "**************************************************************************\n",
    "*** Export Table to Latex\n",
    "************************************************************************\n",
    "esttab int1 int2 int3 ///\n",
    "\t   using \"Results/Tables/table4.tex\", booktabs nonotes compress label nomtitles ///\n",
    "                                   cells(b(fmt(4)) se(fmt(4) par(( ))) sesp(fmt(4) par([ ]) drop(_cons))) ///\n",
    "\t\t\t\t\t\t\t       collabels(\"\",none) ///\n",
    "                                   stats(depavg N N_g r2_a,fmt(4 %7.0fc 0 4) labels(\"Mean of the Dependent Variable\" \"No. of Observations\" \"No. of Counties\" \"Adjusted R-squared\")) ///\n",
    "\t\t\t\t\t\t\t\t   indicate(\"County FE =0.OBJECTID\" \"Year FE=0.year\" \"Pre-reform rebellion $\\times$ Year FE=0.year#c.ashprerebels\" \"Province $\\times$ Year FE=0.provid#0.year\"  \"Prefecture Year Trend=0.prefid#c.year\") ///\n",
    "    \t\t\t\t\t\t\t   prehead($head ) ///\n",
    "                                   postfoot(\\bottomrule\\end{tabular}$notes\\end{threeparttable}\\end{table}) ///\n",
    "                                   starlevels(* 0.10 ** 0.05 *** 0.01) ///\n",
    "                                   replace"
   ]
  },
  {
   "cell_type": "code",
   "execution_count": 10,
   "id": "d4502e01",
   "metadata": {
    "ExecuteTime": {
     "end_time": "2022-05-14T15:51:20.724672Z",
     "start_time": "2022-05-14T15:51:20.550206Z"
    }
   },
   "outputs": [
    {
     "name": "stdout",
     "output_type": "stream",
     "text": [
      "\n",
      "\\begin{table}[htb]\\centering     \\caption{Canal closure and rebellions: treatmen\n",
      "> t intensities }  \\begin{threeparttable}  \\begin{tabular}{l*{3}{c}}   \\toprule\\\n",
      "> toprule   & \\multicolumn{3}{c}{\\textit{Dependent variable:} Rebellions} \\\\   [\n",
      "> .1cm] \\cmidrule(lr){2-4} \n",
      "                      (1)          (2)          (3)\n",
      "             ash~ypop1600 ash~ypop1600 ash~ypop1600\n",
      "---------------------------------------------------\n",
      "ash_den_af~r       0.0200                          \n",
      "                 (0.0104)                          \n",
      "                 [0.0094]                          \n",
      "canaltown_~r                    0.0770             \n",
      "                              (0.0292)             \n",
      "                              [0.0269]             \n",
      "ash_dist_a~r                                -0.0142\n",
      "                                           (0.0038)\n",
      "                                           [0.0046]\n",
      "_cons              0.0315       0.0315       0.0561\n",
      "                 (0.0007)     (0.0007)     (0.0063)\n",
      "County FE             Yes          Yes          Yes\n",
      "Year FE               Yes          Yes          Yes\n",
      "Pre-reform~e          Yes          Yes          Yes\n",
      "Province $~E          Yes          Yes          Yes\n",
      "Prefecture~d          Yes          Yes          Yes\n",
      "---------------------------------------------------\n",
      "Mean of th~e       0.0330       0.0334       0.0322\n",
      "No. of Obs~s      140,432      129,166      130,476\n",
      "No. of Cou~s          536          493          498\n",
      "Adjusted R~d       0.0497       0.0515       0.0485\n",
      "\\begin{tablenotes}\\footnotesize{\\item \\textit{Note.} The sample consists of 536 \n",
      "> counties in the six provinces around the canal from 1650 to 1911.  The depende\n",
      "> nt variable is the inverse hyperbolic sine transformation of the number of reb\n",
      "> ellions normalized by 1600 population.  $ Canal\\ Length $ (per 100 $ km^2 $) i\n",
      "> s the length of the canal portion (in $ km $) contained with the county's boun\n",
      "> dary, divided by the size of the county (in 100 $ km^2 $).  $ Canal\\ Town\\ Sha\n",
      "> re $ is the share of towns within 10 kilometers away from the canal, measured \n",
      "> in 1820.  $ Distance\\ to\\ canal $ is the distance from a county's geological c\n",
      "> enter to the canal. $ Post $ is an indicator that equals one in and after 1826\n",
      "> .  Standard errors in parentheses are clustered at the county level.  Standard\n",
      ">  errors in square brackets are Conley standard errors robust for spatial corre\n",
      "> lation, assuming a cut-off window of 500 km and a serial correlation of 262 ye\n",
      "> ars.  }\\end{tablenotes}\n"
     ]
    }
   ],
   "source": [
    "**************************************************************************\n",
    "*** Export Table to Latex\n",
    "************************************************************************\n",
    "esttab int1 int2 int3, ///\n",
    "   cells(b(fmt(4)) se(fmt(4) par(( ))) sesp(fmt(4) par([ ]) drop(_cons))) ///\n",
    "   collabels(\"\",none) ///\n",
    "   stats(depavg N N_g r2_a,fmt(4 %7.0fc 0 4) labels(\"Mean of the Dependent Variable\" \"No. of Observations\" \"No. of Counties\" \"Adjusted R-squared\")) ///\n",
    "   indicate(\"County FE =0.OBJECTID\" \"Year FE=0.year\" \"Pre-reform rebellion $\\times$ Year FE=0.year#c.ashprerebels\" \"Province $\\times$ Year FE=0.provid#0.year\"  \"Prefecture Year Trend=0.prefid#c.year\") ///\n",
    "   prehead($head ) ///\n",
    "   postfoot($notes) ///\n",
    "   starlevels(* 0.10 ** 0.05 *** 0.01) ///\n",
    "   replace"
   ]
  },
  {
   "cell_type": "code",
   "execution_count": null,
   "id": "2cefde18",
   "metadata": {},
   "outputs": [],
   "source": []
  }
 ],
 "metadata": {
  "kernelspec": {
   "display_name": "Stata",
   "language": "stata",
   "name": "stata"
  },
  "language_info": {
   "codemirror_mode": "stata",
   "file_extension": ".do",
   "mimetype": "text/x-stata",
   "name": "stata",
   "version": "15.1"
  },
  "toc": {
   "toc_cell": false,
   "toc_number_sections": true,
   "toc_threshold": 6,
   "toc_window_display": false
  }
 },
 "nbformat": 4,
 "nbformat_minor": 5
}
