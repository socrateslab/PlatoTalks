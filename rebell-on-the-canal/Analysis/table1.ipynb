{
 "cells": [
  {
   "cell_type": "code",
   "execution_count": 1,
   "id": "75642cdb",
   "metadata": {
    "ExecuteTime": {
     "end_time": "2022-05-14T15:38:14.432595Z",
     "start_time": "2022-05-14T15:38:14.411651Z"
    }
   },
   "outputs": [
    {
     "name": "stdout",
     "output_type": "stream",
     "text": [
      "/Users/chengjun/OneDrive - 南京大学/10papers/causal_inference_references/RebelCa\n",
      "> nal157781-V1/Program\n"
     ]
    }
   ],
   "source": [
    "cd .."
   ]
  },
  {
   "cell_type": "code",
   "execution_count": 2,
   "id": "7c47f9ae",
   "metadata": {
    "ExecuteTime": {
     "end_time": "2022-05-14T15:38:15.458853Z",
     "start_time": "2022-05-14T15:38:15.437969Z"
    }
   },
   "outputs": [
    {
     "name": "stdout",
     "output_type": "stream",
     "text": [
      "/Users/chengjun/OneDrive - 南京大学/10papers/causal_inference_references/RebelCa\n",
      "> nal157781-V1\n"
     ]
    }
   ],
   "source": [
    "cd .."
   ]
  },
  {
   "cell_type": "code",
   "execution_count": 3,
   "id": "3e0fb907",
   "metadata": {
    "ExecuteTime": {
     "end_time": "2022-05-14T15:38:17.590035Z",
     "start_time": "2022-05-14T15:38:16.438393Z"
    }
   },
   "outputs": [],
   "source": [
    "**************************************************************************\n",
    "*** Set up\n",
    "**************************************************************************\n",
    "use \"Data/Final/rebellion.dta\", clear\n",
    "run \"Program/Analysis/generalsetup.do\"\n"
   ]
  },
  {
   "cell_type": "code",
   "execution_count": 4,
   "id": "ecf7d072",
   "metadata": {
    "ExecuteTime": {
     "end_time": "2022-05-14T15:38:18.518860Z",
     "start_time": "2022-05-14T15:38:18.159269Z"
    }
   },
   "outputs": [
    {
     "name": "stdout",
     "output_type": "stream",
     "text": [
      "\n",
      "(150,075 missing values generated)\n",
      "\n",
      "(575 real changes made)\n",
      "\n",
      "(131,786 real changes made)\n",
      "\n",
      "(10,218 missing values generated)\n",
      "\n",
      "(12,052 missing values generated)\n",
      "\n",
      "\n",
      "\n",
      "\n",
      "\n",
      "\n",
      "\n",
      "\n",
      "\n",
      "\n",
      "\n",
      "\n",
      "\n",
      "\n",
      "\n",
      "\n",
      "\n",
      "\n",
      "\n",
      "(150650 differences between alongcanal and sugroup)\n",
      "\n",
      "\n",
      "\n",
      "\n",
      "\n",
      "\n",
      "Variable      Storage   Display    Value\n",
      "    name         type    format    label      Variable label\n",
      "--------------------------------------------------------------------------------\n",
      "onset_cnty~1600 float   %9.0g                 Number of rebellions per million\n",
      "                                                population\n",
      "alongcanal      float   %9.0g                 Being Along the Grand Canal\n",
      "canal_den       float   %9.0g                 Length of canal per 100 $ km^2 $\n",
      "canaltown       float   %9.0g                 Share of towns within 10km of the\n",
      "                                                canal\n",
      "distance_canal  float   %9.0g                 Distance from the Grand Canal (km)\n",
      "AREA            float   %9.0g                 Land size\n",
      "ruggedness      float   %9.0g                 Ruggedness Index\n",
      "disaster        float   %9.0g                 Temperature Anomaly\n",
      "flooding        float   %9.0g                 Flood\n",
      "drought         float   %9.0g                 Drought\n",
      "popdencnty1600  float   %9.0g                 Population density\n",
      "maizeyear       int     %8.0g                 Year of Maize Adoption\n",
      "swtpotatoyear   int     %10.0g                Year of Sweet Potato Adoption\n",
      "suitable_rice~d float   %9.0g                 Suitable for wetland rice\n",
      "suitable_whea~d float   %9.0g                 Suitable for wheat\n",
      "soldier         double  %10.0g                Imperial Soldiers Stationed\n",
      "pref_capital    byte    %10.0g                Prefecture Capital\n",
      "attack          byte    %10.0g                Number of Attacking Cases\n",
      "runinto         byte    %10.0g                Number of Retreating Cases\n",
      "town            float   %9.0g                 Number of Towns and Local Markets\n",
      "alongcourier    float   %9.0g                 Along the Qing Courier Routes\n",
      "mp              float   %9.0g                 Average grain price (silver tael\n",
      "                                                per 10,000 kilocalorie)\n",
      "green_senior    byte    %10.0g                Senior Green Gang Members\n"
     ]
    }
   ],
   "source": [
    "**************************************************************************\n",
    "*** Table1. Data sources and summary statistics\n",
    "**************************************************************************\n",
    "gen town=town1820 if year==1820\n",
    "replace town=town1911 if year==1911\n",
    "replace distance_coast=distance_coast*100\n",
    "gen onset_cntypop1600=onset_all/(cntypop1600/1000000)\n",
    "gen canaltown=(town1820_r10canal*alongcanal)/town1820\n",
    "\n",
    "label variable onset_cntypop1600 \"Number of rebellions per million population\"\n",
    "label variable onset_all \"Number of Rebellions (Onset)\"\n",
    "label variable canal_den \"Length of canal per 100 $ km^2 $\"\n",
    "label variable popdencnty1600 \"Population density\"\n",
    "label variable distance_huang \"Distance from the Yellow River (km)\"\n",
    "label variable distance_coast \"Distance from the coast (km)\"\n",
    "label variable AREA \"Land size\"\n",
    "label variable soldier \"Imperial Soldiers Stationed\"\n",
    "label variable attack \"Number of Attacking Cases\"\n",
    "label variable runinto \"Number of Retreating Cases\"\n",
    "label variable drought \"Drought\"\n",
    "label variable flooding \"Flood\"\n",
    "label variable disaster \"Temperature Anomaly\"\n",
    "label variable suitable_rice_good \"Suitable for wetland rice\"\n",
    "label variable suitable_wheat_good \"Suitable for wheat\"\n",
    "label variable town \"Number of Towns and Local Markets\"\n",
    "label variable canaltown \"Share of towns within 10km of the canal\"\n",
    "label variable mp \"Average grain price (silver tael per 10,000 kilocalorie)\"\n",
    "\n",
    "recode alongcanal (1=0) (0=1), gen(sugroup)\n",
    "local Ylist onset_cntypop1600\n",
    "local Xlist alongcanal canal_den canaltown distance_canal\n",
    "local Clist AREA ruggedness disaster flooding drought popdencnty1600 maizeyear swtpotatoyear suitable_rice_good suitable_wheat_good\n",
    "local Olist soldier pref_capital attack runinto town alongcourier mp green_senior\n",
    "des `Ylist' `Xlist' `Clist' `Olist'\n"
   ]
  },
  {
   "cell_type": "code",
   "execution_count": 5,
   "id": "3e8bbea4",
   "metadata": {
    "ExecuteTime": {
     "end_time": "2022-05-14T15:38:20.686933Z",
     "start_time": "2022-05-14T15:38:19.349822Z"
    }
   },
   "outputs": [
    {
     "name": "stdout",
     "output_type": "stream",
     "text": [
      "\n",
      "\n",
      "             |  e(count)   e(sum_w)    e(mean)     e(Var)      e(sd)     e(min) \n",
      "-------------+------------------------------------------------------------------\n",
      "onset_c~1600 |    140432     140432   .4603983   50.65407   7.117167          0 \n",
      "  alongcanal |    150650     150650   .1269565   .1108393   .3329254          0 \n",
      "   canal_den |    150650     150650   .4065386   1.895681   1.376837          0 \n",
      "   canaltown |    138598     138598   .0684374   .0443275    .210541          0 \n",
      "distance_c~l |    150650     150650   118.0353   12847.68   113.3476          0 \n",
      "        AREA |    150650     150650   1622.249    2334815    1528.01    96.4648 \n",
      "  ruggedness |    150650     150650   72.75099   9524.591   97.59401   .6784327 \n",
      "    disaster |    150650     150650   .3459343   .2262653   .4756735          0 \n",
      "    flooding |    150650     150650   .0743113   .0687896   .2622777          0 \n",
      "     drought |    150650     150650    .097617   .0880885   .2967971          0 \n",
      "popdenc~1600 |    145934     145934   54.04304   27940.22   167.1533          0 \n",
      "   maizeyear |    147506     147506   1718.405    9126.04   95.53031       1511 \n",
      "swtpotatoy~r |     60522      60522   1755.013   2613.857   51.12589       1608 \n",
      "suitable_r~d |    150650     150650    .066087   .0617199   .2484349          0 \n",
      "suitable_w~d |    150650     150650    .413913   .2425906   .4925349          0 \n",
      "     soldier |    150650     150650   154.2104   119405.3   345.5507          0 \n",
      "pref_capital |    150650     150650   .1391304    .119774   .3460837          0 \n",
      "      attack |    150650     150650   .0054497   .0067609   .0822248          0 \n",
      "     runinto |    150650     150650   .0036376   .0047661   .0690369          0 \n",
      "        town |      1150       1150   12.49565   115.8847   10.76497          0 \n",
      "alongcourier |    150650     150650        .28   .2016013   .4490004          0 \n",
      "          mp |     91110      91110   .5979945   .0344618   .1856389   .1497751 \n",
      "green_senior |    150650     150650   .2434783   1.119856   1.058233          0 \n",
      "\n",
      "             |    e(max)     e(sum) \n",
      "-------------+----------------------\n",
      "onset_c~1600 |  395.9637   64654.65 \n",
      "  alongcanal |         1      19126 \n",
      "   canal_den |  11.80325   61245.04 \n",
      "   canaltown |         1   9485.289 \n",
      "distance_c~l |  498.5443   1.78e+07 \n",
      "        AREA |   14201.4   2.44e+08 \n",
      "  ruggedness |  447.7915   1.10e+07 \n",
      "    disaster |         1      52115 \n",
      "    flooding |         1      11195 \n",
      "     drought |         1      14706 \n",
      "popdenc~1600 |  2523.873    7886717 \n",
      "   maizeyear |      1890   2.53e+08 \n",
      "swtpotatoy~r |      1876   1.06e+08 \n",
      "suitable_r~d |         1       9956 \n",
      "suitable_w~d |         1      62356 \n",
      "     soldier |      3477   2.32e+07 \n",
      "pref_capital |         1      20960 \n",
      "      attack |         3        821 \n",
      "     runinto |         3        548 \n",
      "        town |        72      14370 \n",
      "alongcourier |         1      42182 \n",
      "          mp |   1.92303   54483.28 \n",
      "green_senior |        13      36680 \n",
      "\n",
      "\n",
      "\n",
      "\n",
      "Number of observations (_N) was 0, now 1.\n",
      "\n",
      "\n",
      "\n",
      "\n",
      "\n",
      "\n",
      "\n",
      "\n",
      "\n",
      "\n",
      "\n",
      "\n",
      "\n",
      "\n",
      "\n",
      "\n",
      "\n",
      "\n",
      "\n",
      "\n",
      "\n",
      "\n",
      "\n",
      "\n",
      "\n",
      "             |  e(count)   e(sum_w)    e(mean)     e(Var)      e(sd)     e(min) \n",
      "-------------+------------------------------------------------------------------\n",
      "onset_c~1600 |         1          1          1          .          .          1 \n",
      "  alongcanal |         1          1          2          .          .          2 \n",
      "   canal_den |         1          1          2          .          .          2 \n",
      "   canaltown |         1          1          2          .          .          2 \n",
      "distance_c~l |         1          1          2          .          .          2 \n",
      "        AREA |         1          1          2          .          .          2 \n",
      "  ruggedness |         1          1          5          .          .          5 \n",
      "    disaster |         1          1          3          .          .          3 \n",
      "    flooding |         1          1          4          .          .          4 \n",
      "     drought |         1          1          4          .          .          4 \n",
      "popdenc~1600 |         1          1          6          .          .          6 \n",
      "   maizeyear |         1          1          4          .          .          4 \n",
      "swtpotatoy~r |         1          1          4          .          .          4 \n",
      "suitable_r~d |         1          1          8          .          .          8 \n",
      "suitable_w~d |         1          1          8          .          .          8 \n",
      "     soldier |         1          1          7          .          .          7 \n",
      "pref_capital |         1          1          2          .          .          2 \n",
      "      attack |         1          1          1          .          .          1 \n",
      "     runinto |         1          1          1          .          .          1 \n",
      "        town |         1          1          2          .          .          2 \n",
      "alongcourier |         1          1          2          .          .          2 \n",
      "          mp |         1          1          4          .          .          4 \n",
      "green_senior |         1          1          9          .          .          9 \n",
      "\n",
      "             |    e(max)     e(sum) \n",
      "-------------+----------------------\n",
      "onset_c~1600 |         1          1 \n",
      "  alongcanal |         2          2 \n",
      "   canal_den |         2          2 \n",
      "   canaltown |         2          2 \n",
      "distance_c~l |         2          2 \n",
      "        AREA |         2          2 \n",
      "  ruggedness |         5          5 \n",
      "    disaster |         3          3 \n",
      "    flooding |         4          4 \n",
      "     drought |         4          4 \n",
      "popdenc~1600 |         6          6 \n",
      "   maizeyear |         4          4 \n",
      "swtpotatoy~r |         4          4 \n",
      "suitable_r~d |         8          8 \n",
      "suitable_w~d |         8          8 \n",
      "     soldier |         7          7 \n",
      "pref_capital |         2          2 \n",
      "      attack |         1          1 \n",
      "     runinto |         1          1 \n",
      "        town |         2          2 \n",
      "alongcourier |         2          2 \n",
      "          mp |         4          4 \n",
      "green_senior |         9          9 \n",
      "\n",
      "\n"
     ]
    }
   ],
   "source": [
    "**************************************************************************\n",
    "*** Get statistics\n",
    "**************************************************************************\n",
    "estpost summarize `Ylist' `Xlist' `Clist' `Olist'\n",
    "eststo des2\n",
    "\n",
    "// Sourcelist\n",
    "preserve\n",
    "clear\n",
    "set obs 1\n",
    "gen onset_cntypop1600=1\n",
    "gen alongcanal=2\n",
    "gen canal_den=2\n",
    "gen canaltown=2\n",
    "gen distance_canal=2\n",
    "gen AREA=2\n",
    "gen ruggedness=5\n",
    "gen disaster=3\n",
    "gen drought=4\n",
    "gen flooding=4\n",
    "gen popdencnty1600=6\n",
    "gen maizeyear=4\n",
    "gen swtpotatoyear=4\n",
    "gen suitable_wheat_good=8\n",
    "gen suitable_rice_good=8\n",
    "gen soldier=7\n",
    "gen pref_capital=2\n",
    "gen attack=1\n",
    "gen runinto=1\n",
    "gen town=2\n",
    "gen alongcourier=2\n",
    "gen mp=4\n",
    "gen green_senior=9\n",
    "estpost summarize `Ylist' `Xlist' `Clist' `Olist'\n",
    "eststo des1\n",
    "restore"
   ]
  },
  {
   "cell_type": "code",
   "execution_count": 6,
   "id": "e9f9984f",
   "metadata": {
    "ExecuteTime": {
     "end_time": "2022-05-14T15:38:20.758938Z",
     "start_time": "2022-05-14T15:38:20.689058Z"
    }
   },
   "outputs": [],
   "source": [
    "**************************************************************************\n",
    "*** Set up table elements for latex\n",
    "**************************************************************************\n",
    "global caption \"Data sources and summary statistics\"\n",
    "\n",
    "*** Table head\n",
    "#delimit ;\n",
    "global head\n",
    "    \\begin{table}[htb]\\centering\n",
    "    \\caption{$caption } \\begin{adjustbox}{max width=\\textwidth} \\begin{threeparttable}\n",
    "\t\\begin{tabular}{l*{4}{c}} \n",
    "\t\\toprule\\toprule \n",
    "\t;\n",
    "#delimit cr\n",
    "\n",
    "*** Table notes\n",
    "run \"Program/Analysis/generalnotes.do\"\n",
    "global note_source1 \"\\item Veritable Records of the Qing Emperors (\\textit{Qing Shilu})\"\n",
    "global note_source2 \"\\item Harvard Yenching Institution and Fudan Center for Historical Geography (2007)\"\n",
    "global note_source3 \"\\item Mann et al. (2009)\"\n",
    "global note_source4 \"\\item Chen and Kung (2016)\"\n",
    "global note_source5 \"\\item Nunn and Puga (2012)\"\n",
    "global note_source6 \"\\item Liang (1980)\"\n",
    "global note_source7 \"\\item Luo (1984)\"\n",
    "global note_source8 \"\\item FAO (2012), GAEZ: http://gaez.fao.org/Main.html\\#\"\n",
    "global note_source9 \"\\item Encyclopedia of the Green Gang (\\textit{Qingbang Tongcao Huihai})\"\n",
    "global note_sources $note_source1 $note_source2 $note_source3 $note_source4 $note_source5 $note_source6 $note_source7 $note_source8 $note_source9   \n",
    "global notes \"\\begin{tablenotes}\\footnotesize{\\item \\textit{Sources.} \\begin{enumerate} $note_sources \\end{enumerate} }\\end{tablenotes}\"\n"
   ]
  },
  {
   "cell_type": "code",
   "execution_count": 7,
   "id": "a34f0499",
   "metadata": {
    "ExecuteTime": {
     "end_time": "2022-05-14T15:38:21.703939Z",
     "start_time": "2022-05-14T15:38:21.581785Z"
    }
   },
   "outputs": [
    {
     "name": "stdout",
     "output_type": "stream",
     "text": [
      "\n",
      "\n",
      "\n",
      "(output written to Results/Tables/table1.tex)\n"
     ]
    }
   ],
   "source": [
    "**************************************************************************\n",
    "*** Export table\n",
    "**************************************************************************\n",
    "labvarch `Ylist' `Xlist' `Clist' `Olist', prefix(\"\\ \\ \\ \\ \")\n",
    "local sequence Outcome `Ylist' Treatments `Xlist' Controls `Clist' Supplements `Olist'\n",
    "esttab des1 des2 ///\n",
    "\t   using \"Results/Tables/table1.tex\", booktabs nonotes compress label nomtitles nonumbers noobs ///\n",
    "\t\t\t\t\t\t\t\t   cells(\"min(fmt(0) pattern(1 0) label(Source)) count(fmt(%9.0fc) pattern(0 1) label(Obs.)) mean(fmt(%12.4fc) pattern(0 1) label(Mean)) sd(fmt(%12.4fc) pattern(0 1) label(S.D))\") ///\n",
    "\t\t\t\t\t\t\t\t   order(`sequence') ///\n",
    "\t\t\t\t\t\t\t\t   starlevels(* 0.10 ** 0.05 *** 0.01) ///\n",
    "\t\t\t\t\t\t\t\t   prehead($head ) ///\n",
    "\t\t\t\t\t\t\t\t   postfoot(\\bottomrule\\end{tabular}$notes\\end{threeparttable}\\end{adjustbox}\\end{table} ) ///\n",
    "\t\t\t\t\t\t\t\t   replace"
   ]
  },
  {
   "cell_type": "code",
   "execution_count": 8,
   "id": "f5c94c91",
   "metadata": {
    "ExecuteTime": {
     "end_time": "2022-05-14T15:38:23.557468Z",
     "start_time": "2022-05-14T15:38:23.518583Z"
    }
   },
   "outputs": [],
   "source": [
    "global caption \"Table 1--Data sources and summary statistics\"\n",
    "\n",
    "*** Table head\n",
    "#delimit ;\n",
    "global head\n",
    "    $caption\n",
    "#delimit cr\n"
   ]
  },
  {
   "cell_type": "code",
   "execution_count": 9,
   "id": "b5dd1786",
   "metadata": {
    "ExecuteTime": {
     "end_time": "2022-05-14T15:38:24.278587Z",
     "start_time": "2022-05-14T15:38:24.165723Z"
    }
   },
   "outputs": [
    {
     "name": "stdout",
     "output_type": "stream",
     "text": [
      "\n",
      "Table 1--Data sources and summary statistics \n",
      "                      (1)          (2)                          \n",
      "                                                                \n",
      "                   Source         Obs.         Mean          S.D\n",
      "----------------------------------------------------------------\n",
      "Outcome                                                         \n",
      "onset_c~1600            1      140,432       0.4604       7.1172\n",
      "Treatments                                                      \n",
      "alongcanal              2      150,650       0.1270       0.3329\n",
      "canal_den               2      150,650       0.4065       1.3768\n",
      "canaltown               2      138,598       0.0684       0.2105\n",
      "distance_c~l            2      150,650     118.0353     113.3476\n",
      "Controls                                                        \n",
      "AREA                    2      150,650   1,622.2486   1,528.0102\n",
      "ruggedness              5      150,650      72.7510      97.5940\n",
      "disaster                3      150,650       0.3459       0.4757\n",
      "flooding                4      150,650       0.0743       0.2623\n",
      "drought                 4      150,650       0.0976       0.2968\n",
      "popdenc~1600            6      145,934      54.0430     167.1533\n",
      "maizeyear               4      147,506   1,718.4050      95.5303\n",
      "swtpotatoy~r            4       60,522   1,755.0130      51.1259\n",
      "suitable_r~d            8      150,650       0.0661       0.2484\n",
      "suitable_w~d            8      150,650       0.4139       0.4925\n",
      "Supplements                                                     \n",
      "soldier                 7      150,650     154.2104     345.5507\n",
      "pref_capital            2      150,650       0.1391       0.3461\n",
      "attack                  1      150,650       0.0054       0.0822\n",
      "runinto                 1      150,650       0.0036       0.0690\n",
      "town                    2        1,150      12.4957      10.7650\n",
      "alongcourier            2      150,650       0.2800       0.4490\n",
      "mp                      4       91,110       0.5980       0.1856\n",
      "green_senior            9      150,650       0.2435       1.0582\n",
      "----------------------------------------------------------------\n",
      "N                       1       150650                          \n",
      "----------------------------------------------------------------\n"
     ]
    }
   ],
   "source": [
    "esttab des1 des2, ///\n",
    "    cells(\"min(fmt(0) pattern(1 0) label(Source)) count(fmt(%9.0fc) pattern(0 1) label(Obs.)) mean(fmt(%12.4fc) pattern(0 1) label(Mean)) sd(fmt(%12.4fc) pattern(0 1) label(S.D))\") ///\n",
    "    order(`sequence') ///\n",
    "    starlevels(* 0.10 ** 0.05 *** 0.01) ///\n",
    "    prehead($head ) ///\n",
    "    replace"
   ]
  },
  {
   "cell_type": "code",
   "execution_count": null,
   "id": "3d56924a",
   "metadata": {},
   "outputs": [],
   "source": []
  }
 ],
 "metadata": {
  "kernelspec": {
   "display_name": "Stata",
   "language": "stata",
   "name": "stata"
  },
  "language_info": {
   "codemirror_mode": "stata",
   "file_extension": ".do",
   "mimetype": "text/x-stata",
   "name": "stata",
   "version": "15.1"
  },
  "toc": {
   "toc_cell": false,
   "toc_number_sections": true,
   "toc_threshold": 6,
   "toc_window_display": false
  }
 },
 "nbformat": 4,
 "nbformat_minor": 5
}
