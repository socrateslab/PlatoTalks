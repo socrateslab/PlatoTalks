{
 "cells": [
  {
   "cell_type": "code",
   "execution_count": 1,
   "id": "34d678f2",
   "metadata": {
    "ExecuteTime": {
     "end_time": "2022-05-14T10:17:37.417670Z",
     "start_time": "2022-05-14T10:17:37.385513Z"
    }
   },
   "outputs": [
    {
     "name": "stdout",
     "output_type": "stream",
     "text": [
      "\n",
      "(NLSW, 1988 extract)\n",
      "\n",
      "\n",
      "\n",
      "(1,099 real changes made)\n",
      "\n",
      "\n",
      "(1,110 real changes made)\n"
     ]
    }
   ],
   "source": [
    "sysuse nlsw88, clear\n",
    "set seed 1\n",
    "gen TREAT = uniform() < .5\n",
    "replace wage = wage + TREAT\n",
    "gen POST = uniform() < .5\n",
    "replace wage = wage - POST"
   ]
  },
  {
   "cell_type": "code",
   "execution_count": 2,
   "id": "dfc1c494",
   "metadata": {
    "ExecuteTime": {
     "end_time": "2022-05-14T10:17:51.100004Z",
     "start_time": "2022-05-14T10:17:49.416923Z"
    }
   },
   "outputs": [
    {
     "name": "stdout",
     "output_type": "stream",
     "text": [
      "\n",
      "Bootstrap replications (50)\n",
      "----+--- 1 ---+--- 2 ---+--- 3 ---+--- 4 ---+--- 5 \n",
      "..................................................    50\n",
      "\n",
      "Changes in Changes (CIC) Model\n",
      "\n",
      "Bootstrap results\n",
      "\n",
      "Number of strata = 4                                     Number of obs = 2,246\n",
      "                                                         Replications  =    50\n",
      "\n",
      "      Command: cic\n",
      "\n",
      "------------------------------------------------------------------------------\n",
      "             |   Observed   Bootstrap                         Normal-based\n",
      "             | coefficient  std. err.      z    P>|z|     [95% conf. interval]\n",
      "-------------+----------------------------------------------------------------\n",
      "        mean |  -.8076742   .5454668    -1.48   0.139    -1.876769     .261421\n",
      "         q10 |  -.1191621   .1875861    -0.64   0.525    -.4868241    .2484999\n",
      "         q20 |  -.0466981   .2777153    -0.17   0.866    -.5910101    .4976139\n",
      "         q30 |  -.0789051   .3535705    -0.22   0.823    -.7718906    .6140804\n",
      "         q40 |   .0141063   .5238739     0.03   0.979    -1.012668     1.04088\n",
      "         q50 |  -.4009647    .600971    -0.67   0.505    -1.578846    .7769167\n",
      "         q60 |  -.8840542   .6302271    -1.40   0.161    -2.119277    .3511682\n",
      "         q70 |  -.8437986   .5930403    -1.42   0.155    -2.006136    .3185391\n",
      "         q80 |  -1.012882   .5451661    -1.86   0.063    -2.081388    .0556236\n",
      "         q90 |  -1.149755   1.161383    -0.99   0.322    -3.426024    1.126514\n",
      "------------------------------------------------------------------------------\n",
      "Effect of Treatment on the Treated Group\n",
      "Continuous CIC model [continuous]\n"
     ]
    }
   ],
   "source": [
    "cic continuous wage TREAT POST, vce(bootstrap, reps(50))"
   ]
  },
  {
   "cell_type": "code",
   "execution_count": 3,
   "id": "b3e4dd46",
   "metadata": {
    "ExecuteTime": {
     "end_time": "2022-05-14T10:19:46.444321Z",
     "start_time": "2022-05-14T10:19:43.291250Z"
    }
   },
   "outputs": [
    {
     "name": "stdout",
     "output_type": "stream",
     "text": [
      "(running cic on estimation sample)\n",
      "\n",
      "Bootstrap replications (50)\n",
      "----+--- 1 ---+--- 2 ---+--- 3 ---+--- 4 ---+--- 5 \n",
      "..................................................    50\n",
      "\n",
      "Changes in Changes (CIC) Model                           Number of obs = 2,246\n",
      "                                                         Replications  =    50\n",
      "\n",
      "-------------------------------------------------------------------------------\n",
      "              |   Observed   Bootstrap                         Normal-based\n",
      "         wage | coefficient  std. err.      z    P>|z|     [95% conf. interval]\n",
      "--------------+----------------------------------------------------------------\n",
      "did_model     |\n",
      "   TREAT#POST |\n",
      "         0 0  |   7.572724   .2165478    34.97   0.000     7.148298     7.99715\n",
      "         0 1  |   6.956156   .2532987    27.46   0.000       6.4597    7.452612\n",
      "         1 0  |   8.949919    .256902    34.84   0.000     8.446401    9.453438\n",
      "         1 1  |   7.614637   .2662501    28.60   0.000     7.092796    8.136477\n",
      "--------------+----------------------------------------------------------------\n",
      "did           |\n",
      "          did |  -.7187145   .4428388    -1.62   0.105    -1.586663    .1492336\n",
      "--------------+----------------------------------------------------------------\n",
      "qdid          |\n",
      "          q50 |  -.1740937   .3344224    -0.52   0.603    -.8295496    .4813622\n",
      "          q90 |  -1.389872   .8285711    -1.68   0.093    -3.013842    .2340974\n",
      "--------------+----------------------------------------------------------------\n",
      "continuous    |\n",
      "         mean |  -.8076742    .475063    -1.70   0.089    -1.738781    .1234321\n",
      "          q50 |  -.4009647   .4676812    -0.86   0.391    -1.317603    .5156735\n",
      "          q90 |  -1.149755   1.060728    -1.08   0.278    -3.228744    .9292329\n",
      "--------------+----------------------------------------------------------------\n",
      "discrete_ci   |\n",
      "         mean |  -.8076742    .475063    -1.70   0.089    -1.738781    .1234321\n",
      "          q50 |  -.4009647   .4676812    -0.86   0.391    -1.317603    .5156735\n",
      "          q90 |  -1.149755   1.060728    -1.08   0.278    -3.228744    .9292329\n",
      "--------------+----------------------------------------------------------------\n",
      "dci_lower_bnd |\n",
      "         mean |  -.8076742    .475063    -1.70   0.089    -1.738781    .1234321\n",
      "          q50 |  -.4009647   .4676812    -0.86   0.391    -1.317603    .5156735\n",
      "          q90 |  -1.149755   1.060728    -1.08   0.278    -3.228744    .9292329\n",
      "--------------+----------------------------------------------------------------\n",
      "dci_upper_bnd |\n",
      "         mean |  -.8076742    .475063    -1.70   0.089    -1.738781    .1234321\n",
      "          q50 |  -.4009647   .4676812    -0.86   0.391    -1.317603    .5156735\n",
      "          q90 |  -1.149755   1.060728    -1.08   0.278    -3.228744    .9292329\n",
      "-------------------------------------------------------------------------------\n",
      "(Effect of Treatment on the Treated Group)\n"
     ]
    }
   ],
   "source": [
    "bootstrap, reps(50): cic all wage TREAT POST, at(50 90) did "
   ]
  },
  {
   "cell_type": "code",
   "execution_count": 4,
   "id": "36f91ceb",
   "metadata": {
    "ExecuteTime": {
     "end_time": "2022-05-14T10:20:18.327212Z",
     "start_time": "2022-05-14T10:20:15.211193Z"
    }
   },
   "outputs": [
    {
     "name": "stdout",
     "output_type": "stream",
     "text": [
      "(running cic on estimation sample)\n",
      "\n",
      "Bootstrap replications (50)\n",
      "----+--- 1 ---+--- 2 ---+--- 3 ---+--- 4 ---+--- 5 \n",
      "..................................................    50\n",
      "\n",
      "Changes in Changes (CIC) Model                           Number of obs = 2,246\n",
      "                                                         Replications  =    50\n",
      "\n",
      "-------------------------------------------------------------------------------\n",
      "              |   Observed   Bootstrap                         Normal-based\n",
      "         wage | coefficient  std. err.      z    P>|z|     [95% conf. interval]\n",
      "--------------+----------------------------------------------------------------\n",
      "did_model     |\n",
      "   TREAT#POST |\n",
      "         0 0  |   7.572724   .1915766    39.53   0.000     7.197241    7.948207\n",
      "         0 1  |   6.956156   .2444639    28.45   0.000     6.477015    7.435296\n",
      "         1 0  |   8.949919   .2875448    31.13   0.000     8.386342    9.513497\n",
      "         1 1  |   7.614637   .2354257    32.34   0.000     7.153211    8.076063\n",
      "--------------+----------------------------------------------------------------\n",
      "did           |\n",
      "          did |  -.7187145   .4398249    -1.63   0.102    -1.580756    .1433265\n",
      "--------------+----------------------------------------------------------------\n",
      "qdid          |\n",
      "          q50 |  -.1740937   .4010166    -0.43   0.664    -.9600718    .6118843\n",
      "          q90 |  -1.389872   .9615233    -1.45   0.148    -3.274423    .4946791\n",
      "--------------+----------------------------------------------------------------\n",
      "continuous    |\n",
      "         mean |  -.8076742   .4763167    -1.70   0.090    -1.741238    .1258894\n",
      "          q50 |  -.4009647   .6125461    -0.65   0.513    -1.601533    .7996036\n",
      "          q90 |  -1.149755   1.225703    -0.94   0.348    -3.552089    1.252578\n",
      "--------------+----------------------------------------------------------------\n",
      "discrete_ci   |\n",
      "         mean |  -.8076742   .4763167    -1.70   0.090    -1.741238    .1258894\n",
      "          q50 |  -.4009647   .6125461    -0.65   0.513    -1.601533    .7996036\n",
      "          q90 |  -1.149755   1.225703    -0.94   0.348    -3.552089    1.252578\n",
      "--------------+----------------------------------------------------------------\n",
      "dci_lower_bnd |\n",
      "         mean |  -.8076742   .4763167    -1.70   0.090    -1.741238    .1258894\n",
      "          q50 |  -.4009647   .6125461    -0.65   0.513    -1.601533    .7996036\n",
      "          q90 |  -1.149755   1.225703    -0.94   0.348    -3.552089    1.252578\n",
      "--------------+----------------------------------------------------------------\n",
      "dci_upper_bnd |\n",
      "         mean |  -.8076742   .4763167    -1.70   0.090    -1.741238    .1258894\n",
      "          q50 |  -.4009647   .6125461    -0.65   0.513    -1.601533    .7996036\n",
      "          q90 |  -1.149755   1.225703    -0.94   0.348    -3.552089    1.252578\n",
      "-------------------------------------------------------------------------------\n",
      "(Effect of Treatment on the Treated Group)\n"
     ]
    }
   ],
   "source": [
    "bootstrap, reps(50): cic all wage TREAT POST, at(50 90) did vce(none)"
   ]
  },
  {
   "cell_type": "code",
   "execution_count": 5,
   "id": "5310ab50",
   "metadata": {
    "ExecuteTime": {
     "end_time": "2022-05-14T10:21:19.330820Z",
     "start_time": "2022-05-14T10:20:35.850369Z"
    }
   },
   "outputs": [
    {
     "name": "stdout",
     "output_type": "stream",
     "text": [
      "\n",
      "Changes in Changes (CIC) Model\n",
      "                                                Number of obs      =   2,246\n",
      "-------------------------------------------------------------------------------\n",
      "         wage | Coefficient  Std. err.      t    P>|t|     [95% conf. interval]\n",
      "--------------+----------------------------------------------------------------\n",
      "continuous    |\n",
      "         mean |  -.8076742    .524304    -1.54   0.124    -1.835847    .2204987\n",
      "          q50 |  -.4009647          .        .       .            .           .\n",
      "--------------+----------------------------------------------------------------\n",
      "discrete_ci   |\n",
      "         mean |  -.8076742   .3665384    -2.20   0.028    -1.526465   -.0888834\n",
      "          q50 |  -.4009647          .        .       .            .           .\n",
      "--------------+----------------------------------------------------------------\n",
      "dci_lower_bnd |\n",
      "         mean |  -.8076742    .368935    -2.19   0.029    -1.531165   -.0841836\n",
      "          q50 |  -.4009647          .        .       .            .           .\n",
      "--------------+----------------------------------------------------------------\n",
      "dci_upper_bnd |\n",
      "         mean |  -.8076742   .3665384    -2.20   0.028    -1.526465   -.0888834\n",
      "          q50 |  -.4009647          .        .       .            .           .\n",
      "-------------------------------------------------------------------------------\n",
      "Effect of Treatment on the Treated Group\n",
      "Continuous CIC model [continuous]\n",
      "Discrete CIC model (under the conditional independence assumption) [discrete_ci]\n",
      "Lower bound for the discrete CIC model (without conditional independence) [dci_l\n",
      "> ower_bnd]\n",
      "Upper bound for the discrete CIC model (without conditional independence) [dci_u\n",
      "> pper_bnd]\n"
     ]
    }
   ],
   "source": [
    "cic all wage TREAT POST, vce(delta) at(50)"
   ]
  },
  {
   "cell_type": "code",
   "execution_count": 6,
   "id": "3e0c7d89",
   "metadata": {
    "ExecuteTime": {
     "end_time": "2022-05-14T10:21:41.992085Z",
     "start_time": "2022-05-14T10:21:35.057580Z"
    }
   },
   "outputs": [
    {
     "name": "stdout",
     "output_type": "stream",
     "text": [
      "\n",
      "Bootstrap replications (50)\n",
      "----+--- 1 ---+--- 2 ---+--- 3 ---+--- 4 ---+--- 5 \n",
      "..................................................    50\n",
      "\n",
      "Changes in Changes (CIC) Model\n",
      "\n",
      "Bootstrap results\n",
      "\n",
      "Number of strata = 4                                     Number of obs = 2,237\n",
      "                                                         Replications  =    50\n",
      "\n",
      "      Command: cic\n",
      "\n",
      "-------------------------------------------------------------------------------\n",
      "              |   Observed   Bootstrap                         Normal-based\n",
      "              | coefficient  std. err.      z    P>|z|     [95% conf. interval]\n",
      "--------------+----------------------------------------------------------------\n",
      "did_model     |\n",
      "   TREAT#POST |\n",
      "         0 0  |   10.45222   .3371457    31.00   0.000     9.791429    11.11302\n",
      "         0 1  |   9.975612   .3514387    28.39   0.000     9.286804    10.66442\n",
      "         1 0  |   11.99547   .4028117    29.78   0.000     11.20597    12.78496\n",
      "         1 1  |   10.56486   .3791027    27.87   0.000     9.821835    11.30789\n",
      "              |\n",
      "   occupation |\n",
      "Profession~l  |          0  (empty)\n",
      "Managers/A~n  |   .1554287   .5097887     0.30   0.760    -.8437389    1.154596\n",
      "       Sales  |  -3.586821   .3604686    -9.95   0.000    -4.293327   -2.880316\n",
      "Clerical/U~d  |  -2.214702    .925135    -2.39   0.017    -4.027933   -.4014704\n",
      "   Craftsmen  |  -3.542241    .541071    -6.55   0.000    -4.602721   -2.481761\n",
      "  Operatives  |  -5.088737   .3806209   -13.37   0.000    -5.834741   -4.342734\n",
      "   Transport  |   -7.51579   .4091205   -18.37   0.000    -8.317651   -6.713929\n",
      "    Laborers  |  -5.849375   .3610338   -16.20   0.000    -6.556988   -5.141762\n",
      "     Farmers  |  -2.924082   1.419397    -2.06   0.039    -5.706048   -.1421154\n",
      "Farm labor..  |  -7.699012   .3831582   -20.09   0.000    -8.449988   -6.948035\n",
      "     Service  |  -4.785211   .5937092    -8.06   0.000     -5.94886   -3.621562\n",
      "Household ..  |  -4.596652   1.659757    -2.77   0.006    -7.849715   -1.343589\n",
      "       Other  |  -1.879271   .4320843    -4.35   0.000     -2.72614   -1.032401\n",
      "--------------+----------------------------------------------------------------\n",
      "did           |\n",
      "          did |  -.9539952   .5282613    -1.81   0.071    -1.989368    .0813778\n",
      "--------------+----------------------------------------------------------------\n",
      "qdid          |\n",
      "          q50 |  -.5419426   .4071016    -1.33   0.183    -1.339847    .2559618\n",
      "--------------+----------------------------------------------------------------\n",
      "discrete_ci   |\n",
      "         mean |  -.9915892   .5910207    -1.68   0.093    -2.149968      .16679\n",
      "          q50 |  -.5362072   .3615479    -1.48   0.138    -1.244828    .1724136\n",
      "-------------------------------------------------------------------------------\n",
      "Effect of Treatment on the Treated Group\n",
      "Traditional DID model [did], [did_model]\n",
      "Quantile DID model [qdid]\n",
      "Discrete CIC model (under the conditional independence assumption) [discrete_ci]\n"
     ]
    }
   ],
   "source": [
    "cic dci wage TREAT POST i.occupation, at(50) vce(bootstrap, reps(50))\n"
   ]
  },
  {
   "cell_type": "markdown",
   "id": "3f18008c",
   "metadata": {},
   "source": [
    "\n",
    "## References\n",
    "\n",
    "    Athey, Susan and Guido W. Imbens. \"Identification and Inference in\n",
    "             Nonlinear Difference-in-Differences Models.\" *Econometrica*,\n",
    "             vol. 74, no. 2, March 2006, pp. 431-497. (\n",
    "             http://dx.doi.org/10.1111/j.1468-0262.2006.00668.x)\n",
    "\n",
    "    Imbens, Guido W. and Jeffery M. Wooldridge. \"Recent Developments in the\n",
    "             Econometrics of Program Evaluation.\" *Journal of Economic\n",
    "             Literature*, vol. 47, no. 1, 2009, pp. 5–86. (\n",
    "             http://dx.doi.org/10.1257/jel.47.1.5)\n",
    "\n",
    "    Kranker, Keith. \"The Effect of Disease Management Programs on Medicaid\n",
    "             Expenditures.\" Doctoral dissertation. College Park, MD:\n",
    "             University of Maryland, 2011. (http://hdl.handle.net/1903/12101)\n",
    "\n",
    "    Kranker, Keith. \"Effects of Medicaid Disease Management Programs on\n",
    "             Medical Expenditures: Evidence from a Natural Experiment in\n",
    "             Georgia.\" *Journal of Health Economics*, vol. 46, March 2016,\n",
    "             pp. 52-69.  (http://dx.doi.org/10.1016/j.jhealeco.2016.01.008)\n",
    "\n"
   ]
  },
  {
   "cell_type": "code",
   "execution_count": null,
   "id": "b8330921",
   "metadata": {},
   "outputs": [],
   "source": []
  }
 ],
 "metadata": {
  "kernelspec": {
   "display_name": "Stata",
   "language": "stata",
   "name": "stata"
  },
  "language_info": {
   "codemirror_mode": "stata",
   "file_extension": ".do",
   "mimetype": "text/x-stata",
   "name": "stata",
   "version": "15.1"
  },
  "toc": {
   "toc_cell": false,
   "toc_number_sections": true,
   "toc_threshold": 6,
   "toc_window_display": false
  }
 },
 "nbformat": 4,
 "nbformat_minor": 5
}
