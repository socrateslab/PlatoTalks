{
 "cells": [
  {
   "cell_type": "markdown",
   "id": "6adba3bc",
   "metadata": {},
   "source": [
    " # Figure A5: Changes-in-changes estimations"
   ]
  },
  {
   "cell_type": "code",
   "execution_count": 1,
   "id": "fd59d9dd",
   "metadata": {
    "ExecuteTime": {
     "end_time": "2022-05-14T11:07:48.088473Z",
     "start_time": "2022-05-14T11:07:48.068912Z"
    }
   },
   "outputs": [
    {
     "name": "stdout",
     "output_type": "stream",
     "text": [
      "/Users/chengjun/OneDrive - 南京大学/10papers/causal_inference_references/RebelCa\n",
      "> nal157781-V1/Program\n"
     ]
    }
   ],
   "source": [
    "cd .."
   ]
  },
  {
   "cell_type": "code",
   "execution_count": 2,
   "id": "2dd5fb85",
   "metadata": {
    "ExecuteTime": {
     "end_time": "2022-05-14T11:07:48.570549Z",
     "start_time": "2022-05-14T11:07:48.552376Z"
    }
   },
   "outputs": [
    {
     "name": "stdout",
     "output_type": "stream",
     "text": [
      "/Users/chengjun/OneDrive - 南京大学/10papers/causal_inference_references/RebelCa\n",
      "> nal157781-V1\n"
     ]
    }
   ],
   "source": [
    "cd .."
   ]
  },
  {
   "cell_type": "code",
   "execution_count": 3,
   "id": "8eee28e9",
   "metadata": {
    "ExecuteTime": {
     "end_time": "2022-05-14T11:07:49.038235Z",
     "start_time": "2022-05-14T11:07:49.018062Z"
    }
   },
   "outputs": [
    {
     "name": "stdout",
     "output_type": "stream",
     "text": [
      "/Applications/Stata/ado/base/c/cic.ado\n"
     ]
    }
   ],
   "source": [
    "which cic"
   ]
  },
  {
   "cell_type": "code",
   "execution_count": 4,
   "id": "1594fb44",
   "metadata": {
    "ExecuteTime": {
     "end_time": "2022-05-14T11:07:49.621444Z",
     "start_time": "2022-05-14T11:07:49.578158Z"
    }
   },
   "outputs": [
    {
     "name": "stdout",
     "output_type": "stream",
     "text": [
      "\n",
      "help cic \n",
      "--------------------------------------------------------------------------------\n",
      "\n",
      "Title\n",
      "-----\n",
      "\n",
      "    cic                  Changes-in-changes\n",
      "\n",
      "\n",
      "Syntax\n",
      "------\n",
      "\n",
      "       cic depvar [indepvars] [if] [in] [weight] , group(varname)\n",
      "                time(varname) [options]\n",
      "\n",
      "    options                    Description\n",
      "    --------------------------------------------------------------------------\n",
      "\n",
      "    Samples\n",
      "      group(varname)           specifies the groups; this option is required.\n",
      "      time(varname)            specifies the time periods; this option is\n",
      "                                 required.\n",
      "\n",
      "    Quantiles\n",
      "      quantiles(numlist)       sets the quantile(s) at which the\n",
      "                                 changes-in-changes will be estimated; default\n",
      "                                 is quantiles(0.1(0.1)0.9).\n",
      "\n",
      "    Conditional model\n",
      "      nreg(#)                  sets the number of regressions estimated to\n",
      "                                 approximate the conditional distribution;\n",
      "                                 default is 100.\n",
      "\n",
      "    Inference\n",
      "      noboot                   suppress the bootstrap.\n",
      "      reps(#)                  perform # bootstrap replications; default is\n",
      "                                 100.\n",
      "      level(#)                 set confidence level; default is level(95)\n",
      "      first(#)                 set the lowest quantile that is used for\n",
      "                                 functional inference; default is 0.1.\n",
      "      last(#)                  set the highes quantile that is used for\n",
      "                                 functional inference; default is 0.9.\n",
      "      saving(filename, ...)    save bootstrap results to filename; save\n",
      "                                 statistics in double precision; save results\n",
      "                                 to filename every # replications\n",
      "      cons_test(#[#[# ...]])   add tests of the null hypothesis that the QEs =\n",
      "                                 # at all estimated quantiles.\n",
      "\n",
      "    Reporting\n",
      "      noprint                  suppresses all tables of results.\n",
      "      noprinttest              suppresses the tables containing the tests.\n",
      "\n",
      "    --------------------------------------------------------------------------\n",
      "    aweights, iweights, and pweights are allowed; see weight.\n",
      "\n",
      "\n",
      "Description\n",
      "-----------\n",
      "\n",
      "    cic estimates the quantile treatment effects using the changes-in-changes\n",
      "    framework of Athey and Imbens(2006).  In the absence of covariates, the\n",
      "    estimator suggested by Athey and Imbens (2006) is used. With covariates,\n",
      "    the estimator suggested by Melly and Santangelo (2015) is used. Only the\n",
      "    case with two groups and two time periods has been implemented for the\n",
      "    moment. The requested options time and group must provide 0/1 variables It\n",
      "    is assumed that only observations with time=1 and group=1 are treated.\n",
      "\n",
      "    Pointwise and simultaneous confidence sets for the effects are also\n",
      "    constructed.  The pointwise standard errors are obtained by the empirical\n",
      "    bootstrap. The uniform confidence intervals are obtained by inverting the\n",
      "    Kolmogorov-Smirnov test statistic, whereas the bootstrap is used to\n",
      "    estimate the distribution of the test statistic. These are functional\n",
      "    confidence intervals in the sense that null-hypothesis that are outside of\n",
      "    the uniform confidence interval at at least one of the estimated quantiles\n",
      "    are rejected at the pre-specified level.  The options first(#) and last(#)\n",
      "    can be used to exclude the tails of the distribution from the functional\n",
      "    inference procedure.\n",
      "\n",
      "    In addition to the uniform confidence bands reported in the main table,\n",
      "    the p-values for some null-hypothesis and two test-statistics are reported\n",
      "    in a second table. Both the Kolmogorov-Smirnov and the\n",
      "    Cramer-von-Misses-Smirnov statistic are reported. The first set of null\n",
      "    hypotheses is that there are no change at all. This is stronger than the\n",
      "    absence of any mean effect. Other null hypotheses of constant changes (but\n",
      "    at a different level than 0) can be added with the option cons_test(#).\n",
      "    The null hypthesis that all effects are equal to the median policy effect\n",
      "    is also tested. Finally, both null-hypotheses of first-order stochastic\n",
      "    dominance are tested.\n",
      "\n",
      "\n",
      "Options\n",
      "-------\n",
      "\n",
      "        +--------+\n",
      "    ----+ Groups +------------------------------------------------------------\n",
      "\n",
      "    group(varname) is a 0/1 variable that selects the groups.\n",
      "\n",
      "    time(varname) is a 0/1 variable that selects the time periods.\n",
      "--more--\n"
     ]
    }
   ],
   "source": [
    "help cic"
   ]
  },
  {
   "cell_type": "code",
   "execution_count": 5,
   "id": "c4cf9834",
   "metadata": {
    "ExecuteTime": {
     "end_time": "2022-05-14T11:07:51.141603Z",
     "start_time": "2022-05-14T11:07:50.233814Z"
    }
   },
   "outputs": [
    {
     "name": "stdout",
     "output_type": "stream",
     "text": [
      "\n",
      "\n",
      "\n",
      "not available in non-GUI version\n",
      "\n"
     ]
    }
   ],
   "source": [
    "**************************************************************************\n",
    "*** Set up\n",
    "**************************************************************************\n",
    "use \"Data/Final/rebellion.dta\", clear\n",
    "run \"Program/Analysis/generalsetup.do\"\n",
    "graph set window fontface \"Cambria\"\n",
    "set scheme s2color"
   ]
  },
  {
   "cell_type": "code",
   "execution_count": 6,
   "id": "4805c6e0",
   "metadata": {
    "ExecuteTime": {
     "end_time": "2022-05-14T11:08:50.271087Z",
     "start_time": "2022-05-14T11:07:53.282736Z"
    }
   },
   "outputs": [
    {
     "name": "stdout",
     "output_type": "stream",
     "text": [
      "\n",
      "\n",
      "\n",
      "\n",
      "\n",
      "\n",
      "(10,218 missing values generated)\n",
      "\n",
      "\n",
      "(10,218 missing values generated)\n",
      "\n",
      "\n",
      "                            Yhat\n",
      "-------------------------------------------------------------\n",
      "      Percentiles      Smallest\n",
      " 1%    -2.659257      -3.276513\n",
      " 5%    -2.508334      -3.261038\n",
      "10%    -2.468114      -3.257382       Obs             140,432\n",
      "25%    -2.431374      -3.219827       Sum of wgt.     140,432\n",
      "\n",
      "50%     -2.40494                      Mean          -2.275682\n",
      "                        Largest       Std. dev.       .432406\n",
      "75%    -2.101542       4.203474\n",
      "90%    -1.964646       4.209453       Variance        .186975\n",
      "95%     -1.93403          4.276       Skewness       8.488402\n",
      "99%     -1.88302       4.344619       Kurtosis       94.90205\n"
     ]
    }
   ],
   "source": [
    "**************************************************************************\n",
    "*** FigureA5. Changes-in-changes estimations\n",
    "**************************************************************************\n",
    "gen G0T0=(alongcanal==0 & reform==0)\n",
    "gen G1T0=(alongcanal==1 & reform==0)\n",
    "gen G0T1=(alongcanal==0 & reform==1)\n",
    "gen G1T1=(alongcanal==1 & reform==1)\n",
    "qui reg $Y G0T0 G1T0 G0T1 G1T1 c.ashprerebels#i.year i.OBJECTID i.year i.provid#i.year i.prefid#c.year, nocons\n",
    "predict res, residual\n",
    "mat coef=e(b)\n",
    "gen Yhat=res+coef[1,1]*G0T0+coef[1,2]*G1T0+coef[1,3]*G0T1+coef[1,4]*G1T1\n",
    "su Yhat,detail"
   ]
  },
  {
   "cell_type": "markdown",
   "id": "ed46c2c8",
   "metadata": {},
   "source": [
    "The use of difference-in-differences (DID) methods is widespread in program evaluation and empirical economics (Imbens and Wooldridge 2009). DID methods involve comparing outcomes between two groups across two time periods, where only one of the two groups are exposed to the intervention in one of the periods. The DID estimator calculates the difference in outcomes between the treatment and comparison groups after the intervention began, minus the difference in outcomes between the treatment and comparison groups before the intervention began. Or, equivalently, the DID estimator can be seen as the change in outcomes for the treatment group before and after the intervention, minus the change in outcomes for the comparison group over the same time period. It is straightforward to generalize this basic two group, two period DID model has been generalized in various ways—for example, to adjust for observed covariates, include more than two groups, or include more than two time periods.\n",
    "\n",
    "Athey and Imbens (2006) proposed a changes-in-changes (CIC) model which generalizes the DID model by relaxing relaxes several assumptions. (Thus the standard DID model is nested in the CIC model as a special case.) The CIC model estimates the entire distribution of outcomes under the counterfactual, allowing one to calculate average treatment effects or estimate effects at specific quantiles.\n",
    "\n",
    "This Stata command, cic, implements the CIC estimator from Athey and Imbens (2006). cic is written in Mata with an effort to maximize parallel computing; in tests (not shown), I found cic estimated the model more quickly that the Matlab code previously distributed by the Athey and Imbens. The cic command also offers several previously unavailable features (e.g., to allow for covariates). In addition, you can use Stata's bootstrap: prefix, which offers more flexibility for computing bootstrapped standard errors (e.g., strata, blocks).\n",
    "\n",
    "Imbens and Wooldridge (2009) provide a nice, short overview of the method. Athey and Imbens (2006) explain their methods (with proofs) in a fairly long and complicated article. The appendix is also quite helpful.\n",
    "\n",
    "The Stata help file (cic.sthlp) provides additional documentation and examples."
   ]
  },
  {
   "cell_type": "code",
   "execution_count": 8,
   "id": "f56e9d2a",
   "metadata": {
    "ExecuteTime": {
     "end_time": "2022-05-14T11:09:43.340740Z",
     "start_time": "2022-05-14T11:09:01.657474Z"
    }
   },
   "outputs": [
    {
     "name": "stdout",
     "output_type": "stream",
     "text": [
      "\n",
      "(bootstrapping .................................................................\n",
      "> ...................................)\n",
      "\n",
      "Conditional model                         linear quantile regression\n",
      "\n",
      "The variance has been estimated by bootstraping the results 100 times.\n",
      "\n",
      "No. of obs. in the control group in period 0: 81840   \n",
      "No. of obs. in the control group in period 1: 39990   \n",
      "No. of obs. in the treated group in period 0: 12496   \n",
      "No. of obs. in the treated group in period 1: 6106    \n",
      "\n",
      "\n",
      "Changes-in-changes estimates\n",
      "------------------------------------------------------------------------------\n",
      "Quantile    |     QTE    Pointwise     Pointwise              Functional      \n",
      "            |            Std. Err. [95% Conf. Interval]  [95% Conf. Interval] \n",
      "------------+-----------------------------------------------------------------\n",
      " .1         |   .106024   .010875    .084709   .127339         .077   .135047\n",
      " .2         |   .055161   .005063    .045238   .065084      .041649   .068673\n",
      " .3         |   .025255   .003841    .017726   .032784      .015004   .035507\n",
      " .4         |   .024256   .003267    .017853   .030659      .015537   .032975\n",
      " .5         |   .031182    .00319     .02493   .037434      .022669   .039695\n",
      " .6         |   .020529   .002637    .015361   .025697      .013493   .027566\n",
      " .7         |   .010861   .001718    .007493   .014228      .006275   .015446\n",
      " .8         |   .011268   .001576    .008178   .014358      .007061   .015475\n",
      " .9         |   .010336   .001214    .007956   .012715      .007096   .013576\n",
      "------------------------------------------------------------------------------\n",
      "\n",
      "\n",
      "Bootstrap inference\n",
      "------------------------------------------------------------------------------\n",
      "                                               |            P-values \n",
      "Null-hypothesis                                | KS-statistic   CMS-statistic\n",
      "-----------------------------------------------+------------------------------\n",
      "No effect: QTE(tau)=0 for all taus             |        0              0\n",
      "Constant effect: QTE(tau)=QTE(0.5) for all taus|        0              0\n",
      "Stochastic dominance: QTE(tau)>0 for all taus  |        1              1\n",
      "Stochastic dominance: QTE(tau)<0 for all taus  |        0              0\n",
      "------------------------------------------------------------------------------\n",
      "\n",
      "\n",
      "\n",
      "number of observations will be reset to 9\n",
      "Press any key to continue, or Break to abort\n",
      "--more--\n"
     ]
    }
   ],
   "source": [
    "cic Yhat, group(alongcanal) time(reform) reps(100)\n",
    "matrix qte=e(qte)\n",
    "\n",
    "clear\n",
    "svmat qte, names(qte)\n",
    "rename (qte1 qte2 qte3 qte4 qte5) (qntl qte std lb ub)\n",
    "#d ;\n",
    "twoway \n",
    "(line lb qntl, lpattern(dash) lcolor(\"0 0 0\"))\n",
    "(line ub qntl, lpattern(dash) lcolor(\"0 0 0\"))\n",
    "(scatter qte qntl, color(gs0) msize(*0.75))\n",
    "(line qte qntl, lpattern(solid) lcolor(\"4 4 4\"))\n",
    ",\n",
    "ytitle(\"Treatment effects\", size(*0.9)) \n",
    "xtitle(\"Quantiles\", size(*0.9) margin(medsmall))\n",
    "yline(0(0.025)0.15, lstyle(grid) lwidth(thin) lcolor(\"235 235 235\"))\n",
    "xline(0(0.1)1, lstyle(grid) lwidth(thin) lcolor(\"235 235 235\"))\n",
    "ylabel(0(0.05)0.15, angle(0) format(%5.2f) labsize(*0.85))\n",
    "xlabel(, format(%5.1f) labsize(*0.85)) \n",
    "graphregion(fcolor(gs16) lcolor(gs16)) \n",
    "plotregion(lcolor(\"white\") lwidth(*0.9))\n",
    "legend(off)\n",
    ";\n",
    "#d cr\n",
    "graph export \"Results/Figures/figureA5.pdf\", replace"
   ]
  },
  {
   "cell_type": "code",
   "execution_count": 11,
   "id": "8252e520",
   "metadata": {
    "ExecuteTime": {
     "end_time": "2022-05-14T11:12:29.533750Z",
     "start_time": "2022-05-14T11:12:29.496393Z"
    }
   },
   "outputs": [
    {
     "name": "stdout",
     "output_type": "stream",
     "text": [
      "\n",
      "\n",
      "number of observations will be reset to 9\n",
      "Press any key to continue, or Break to abort\n",
      "--more--\n"
     ]
    }
   ],
   "source": [
    "clear\n",
    "svmat qte, names(qte)\n",
    "rename (qte1 qte2 qte3 qte4 qte5) (qntl qte std lb ub)\n",
    "#d ;\n",
    "twoway \n",
    "(line lb qntl, lpattern(dash) lcolor(\"0 0 0\"))\n",
    "(line ub qntl, lpattern(dash) lcolor(\"0 0 0\"))\n",
    "(scatter qte qntl, color(gs0) msize(*0.75))\n",
    "(line qte qntl, lpattern(solid) lcolor(\"4 4 4\"))\n",
    ",\n",
    "ytitle(\"Treatment effects\", size(*0.9)) \n",
    "xtitle(\"Quantiles\", size(*0.9) margin(medsmall))\n",
    "yline(0(0.025)0.15, lstyle(grid) lwidth(thin) lcolor(\"235 235 235\"))\n",
    "xline(0(0.1)1, lstyle(grid) lwidth(thin) lcolor(\"235 235 235\"))\n",
    "ylabel(0(0.05)0.15, angle(0) format(%5.2f) labsize(*0.85))\n",
    "xlabel(, format(%5.1f) labsize(*0.85)) \n",
    "graphregion(fcolor(gs16) lcolor(gs16)) \n",
    "plotregion(lcolor(\"white\") lwidth(*0.9))\n",
    "legend(off)\n",
    ";\n",
    "#d cr\n",
    "graph export \"Results/Figures/figureA5.png\", replace"
   ]
  },
  {
   "attachments": {
    "image.png": {
     "image/png": "[encoded data removed]"
    }
   },
   "cell_type": "markdown",
   "id": "85ed358f",
   "metadata": {},
   "source": [
    "![image.png](attachment:image.png)\n",
    "\n",
    "Note. The figure depicts the quantile treatment effects on the distribution estimated using the changes- in-changes method. The solid line represents the point estimates, whereas the dashed lines represent the bootstrapped 95% confidence intervals. The estimation partials out county fixed effects, year fixed effects, pre-treatment rebelliousness × year fixed effects, province × year fixed effects, and prefecture-specific time trends."
   ]
  },
  {
   "cell_type": "code",
   "execution_count": 12,
   "id": "ba26ad8e",
   "metadata": {
    "ExecuteTime": {
     "end_time": "2022-05-14T11:13:21.281486Z",
     "start_time": "2022-05-14T11:13:21.245593Z"
    }
   },
   "outputs": [
    {
     "name": "stdout",
     "output_type": "stream",
     "text": [
      "\n",
      "(file Results/Figures/figureA5.tex not found)\n",
      "\n",
      "\n",
      "\n",
      "\n",
      "\n",
      "\n",
      "\n",
      "\n",
      "\n",
      "\n"
     ]
    }
   ],
   "source": [
    "**************************************************************************\n",
    "*** Write to Latex\n",
    "**************************************************************************\n",
    "file open f using \"Results/Figures/figureA5.tex\", write replace\n",
    "file write f \"\\begin{figure}[p]\\captionsetup{justification=centering,singlelinecheck=false,width=0.8\\textwidth}\" _n\n",
    "file write f \"\\begin{center}\" _n\n",
    "file write f \"\\caption{Changes-in-changes estimations}\" _n\n",
    "file write f \"\\includegraphics[width=.9\\textwidth]{Figures/figureA5.pdf}\\hspace{\\fill}%\" _n\n",
    "file write f \"\\end{center}\" _n\n",
    "file write f \"\\footnotesize{\\textit{Note.} The figure depicts the quantile treatment effects on the distribution estimated using the changes-in-changes method.  }\" _n\n",
    "file write f \"The solid line represents the point estimates, whereas the dashed lines represent the bootstrapped 95\\% confidence intervals. \"\n",
    "file write f \"The estimation partials out county fixed effects, year fixed effects, pre-treatment rebelliousness $ \\times $ year fixed effects, province $ \\times $ year fixed effects, and prefecture-specific time trends. \"\n",
    "file write f \"\\end{figure}\" _n\n",
    "file close f"
   ]
  },
  {
   "cell_type": "code",
   "execution_count": null,
   "id": "203fe0a3",
   "metadata": {},
   "outputs": [],
   "source": []
  }
 ],
 "metadata": {
  "kernelspec": {
   "display_name": "Stata",
   "language": "stata",
   "name": "stata"
  },
  "language_info": {
   "codemirror_mode": "stata",
   "file_extension": ".do",
   "mimetype": "text/x-stata",
   "name": "stata",
   "version": "15.1"
  },
  "toc": {
   "toc_cell": false,
   "toc_number_sections": true,
   "toc_threshold": 6,
   "toc_window_display": false
  }
 },
 "nbformat": 4,
 "nbformat_minor": 5
}
