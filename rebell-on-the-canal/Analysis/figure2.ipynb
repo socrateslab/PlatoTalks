{
 "cells": [
  {
   "cell_type": "code",
   "execution_count": 3,
   "id": "42ce22eb",
   "metadata": {
    "ExecuteTime": {
     "end_time": "2022-05-14T07:22:27.248672Z",
     "start_time": "2022-05-14T07:22:27.229014Z"
    }
   },
   "outputs": [
    {
     "name": "stdout",
     "output_type": "stream",
     "text": [
      "/Users/chengjun/OneDrive - 南京大学/10papers/causal_inference_references/RebelCa\n",
      "> nal157781-V1/Program\n"
     ]
    }
   ],
   "source": [
    "cd .."
   ]
  },
  {
   "cell_type": "code",
   "execution_count": 4,
   "id": "424151b8",
   "metadata": {
    "ExecuteTime": {
     "end_time": "2022-05-14T07:22:43.393726Z",
     "start_time": "2022-05-14T07:22:43.372782Z"
    }
   },
   "outputs": [
    {
     "name": "stdout",
     "output_type": "stream",
     "text": [
      "/Users/chengjun/OneDrive - 南京大学/10papers/causal_inference_references/RebelCa\n",
      "> nal157781-V1\n"
     ]
    }
   ],
   "source": [
    "cd .."
   ]
  },
  {
   "cell_type": "code",
   "execution_count": 5,
   "id": "e96236bc",
   "metadata": {
    "ExecuteTime": {
     "end_time": "2022-05-14T07:22:46.219210Z",
     "start_time": "2022-05-14T07:22:46.069445Z"
    }
   },
   "outputs": [],
   "source": [
    "use \"Data/Final/rebellion.dta\", clear"
   ]
  },
  {
   "cell_type": "code",
   "execution_count": 6,
   "id": "bb160fc6",
   "metadata": {
    "ExecuteTime": {
     "end_time": "2022-05-14T07:22:53.278221Z",
     "start_time": "2022-05-14T07:22:52.460107Z"
    }
   },
   "outputs": [
    {
     "name": "stdout",
     "output_type": "stream",
     "text": [
      "\n",
      "\n",
      "not available in non-GUI version\n",
      "\n"
     ]
    }
   ],
   "source": [
    "run \"Program/Analysis/generalsetup.do\"\n",
    "graph set window fontface \"Cambria\"\n",
    "set scheme s2color"
   ]
  },
  {
   "cell_type": "code",
   "execution_count": null,
   "id": "35e689c3",
   "metadata": {
    "ExecuteTime": {
     "start_time": "2022-05-14T07:23:13.043Z"
    }
   },
   "outputs": [
    {
     "name": "stdout",
     "output_type": "stream",
     "text": [
      "\n",
      "\n",
      "Duplicates in terms of year\n",
      "\n",
      "(150,388 observations deleted)\n",
      "\n",
      "(158 observations deleted)\n"
     ]
    }
   ],
   "source": [
    "**************************************************************************\n",
    "*** Figure2. Canal usage measured by tribute rice Transportation\n",
    "**************************************************************************\n",
    "duplicates drop year, force\n",
    "keep if year>1755 & year<1860\n",
    "\n",
    "#d ;\n",
    "twoway \n",
    "(lfit lamount year if year<=1825, lpattern(dash) lcolor(\"0 0 0\"))\n",
    "(lfit lamount year if year>=1826, lpattern(dash) lcolor(\"0 0 0\"))\n",
    "(scatter lamount year, color(\"190 190 190\") msize(*0.75))\n",
    ",\n",
    "ytitle(\"Shipping volume (log million piculs)\", size(*0.9)) \n",
    "xtitle(\"\")\n",
    "yline(0.8(0.1)1.8, lstyle(grid) lwidth(thin) lcolor(\"235 235 235\"))\n",
    "xline(1760(10)1860, lstyle(grid) lwidth(thin) lcolor(\"235 235 235\"))\n",
    "xline(1825.3, lpattern(dash) lcolor(\"128 0 0\"))\n",
    "ylabel(0.8(0.2)1.8, angle(0) format(%5.1f) labsize(*0.85))\n",
    "xlabel(, labsize(*0.85)) \n",
    "graphregion(fcolor(gs16) lcolor(gs16)) \n",
    "plotregion(lcolor(\"white\") lwidth(*0.9))\n",
    "legend(off)\n",
    ";\n",
    "#d cr\n",
    "graph export \"Results/Figures/figure2.pdf\", replace"
   ]
  },
  {
   "cell_type": "code",
   "execution_count": 15,
   "id": "004b4bb1",
   "metadata": {
    "ExecuteTime": {
     "end_time": "2022-05-14T07:27:48.058128Z",
     "start_time": "2022-05-14T07:27:47.870305Z"
    }
   },
   "outputs": [],
   "source": [
    "!open Results/Figures/figure2.pdf"
   ]
  },
  {
   "cell_type": "code",
   "execution_count": 16,
   "id": "f9d295c6",
   "metadata": {
    "ExecuteTime": {
     "end_time": "2022-05-14T07:29:22.979284Z",
     "start_time": "2022-05-14T07:29:19.635653Z"
    }
   },
   "outputs": [
    {
     "name": "stdout",
     "output_type": "stream",
     "text": [
      "(file Results/Figures/figure2.png not found)\n",
      "file Results/Figures/figure2.png written in PNG format\n"
     ]
    }
   ],
   "source": [
    "graph export \"Results/Figures/figure2.png\", replace"
   ]
  },
  {
   "attachments": {
    "figure2.png": {
     "image/png": "[encoded data removed]"
    }
   },
   "cell_type": "markdown",
   "id": "990010f5",
   "metadata": {},
   "source": [
    "![figure2.png](attachment:figure2.png)"
   ]
  },
  {
   "cell_type": "code",
   "execution_count": 8,
   "id": "d31e66d9",
   "metadata": {
    "ExecuteTime": {
     "end_time": "2022-05-14T07:24:11.449563Z",
     "start_time": "2022-05-14T07:24:11.331488Z"
    }
   },
   "outputs": [
    {
     "name": "stdout",
     "output_type": "stream",
     "text": [
      "file /Users/chengjun/.stata_kernel_cache/graph.svg saved as SVG format\n",
      ".     noi gr export `\"/Users/chengjun/.stata_kernel_cache/graph$stata_kernel_gra\n",
      "> ph_counter.pdf\"', replace\n",
      "file /Users/chengjun/.stata_kernel_cache/graph.pdf saved as PDF format\n",
      ".     global stata_kernel_graph_counter = $stata_kernel_graph_counter + 1\n",
      ". }            \n",
      "\n",
      ". graph export \"Results/Figures/figure2.pdf\", replace\n",
      "file Results/Figures/figure2.pdf saved as PDF format\n",
      "\n",
      ". . `a273eaa64673202dfae9463cdaa6e76d'\n",
      "\n",
      "(file Results/Figures/figure2.tex not found)\n",
      "\n",
      "\n",
      "\n",
      "\n",
      "\n",
      "\n",
      "\n",
      "\n",
      "\n",
      "\n"
     ]
    }
   ],
   "source": [
    "**************************************************************************\n",
    "*** Write to Latex\n",
    "**************************************************************************\n",
    "file open f using \"Results/Figures/figure2.tex\", write replace\n",
    "file write f \"\\begin{figure}[p]\\captionsetup{justification=centering,singlelinecheck=false,width=0.8\\textwidth}\" _n\n",
    "file write f \"\\begin{center}\" _n\n",
    "file write f \"\\caption{Canal usage measured by tribute rice transportation} \" _n\n",
    "file write f \"\\includegraphics[width=.8\\textwidth]{Figures/figure2.pdf} \\\\ \" _n\n",
    "file write f \"\\end{center}\" _n\n",
    "file write f \"\\footnotesize{\\textit{Note.} The figure depicts the amount of tribute grains transported via the canal between 1755 and 1860. } \"\n",
    "file write f \"The vertical solid line marks the 1826 treatment date. \"\n",
    "file write f \"The fitted lines depict the linear trend of grain shipping before and after the treatment date. \"\n",
    "file write f \"\\end{figure}\" _n\n",
    "file close f"
   ]
  },
  {
   "cell_type": "code",
   "execution_count": null,
   "id": "f0bffddd",
   "metadata": {},
   "outputs": [],
   "source": [
    "**************************************************************************\n",
    "*** Set up\n",
    "**************************************************************************\n",
    "use \"Data/Final/rebellion.dta\", clear\n",
    "run \"Program/Analysis/generalsetup.do\"\n",
    "graph set window fontface \"Cambria\"\n",
    "set scheme s2color\n",
    "\n",
    "\n",
    "**************************************************************************\n",
    "*** Figure2. Canal usage measured by tribute rice Transportation\n",
    "**************************************************************************\n",
    "duplicates drop year, force\n",
    "keep if year>1755 & year<1860\n",
    "\n",
    "#d ;\n",
    "twoway \n",
    "(lfit lamount year if year<=1825, lpattern(dash) lcolor(\"0 0 0\"))\n",
    "(lfit lamount year if year>=1826, lpattern(dash) lcolor(\"0 0 0\"))\n",
    "(scatter lamount year, color(\"190 190 190\") msize(*0.75))\n",
    ",\n",
    "ytitle(\"Shipping volume (log million piculs)\", size(*0.9)) \n",
    "xtitle(\"\")\n",
    "yline(0.8(0.1)1.8, lstyle(grid) lwidth(thin) lcolor(\"235 235 235\"))\n",
    "xline(1760(10)1860, lstyle(grid) lwidth(thin) lcolor(\"235 235 235\"))\n",
    "xline(1825.3, lpattern(dash) lcolor(\"128 0 0\"))\n",
    "ylabel(0.8(0.2)1.8, angle(0) format(%5.1f) labsize(*0.85))\n",
    "xlabel(, labsize(*0.85)) \n",
    "graphregion(fcolor(gs16) lcolor(gs16)) \n",
    "plotregion(lcolor(\"white\") lwidth(*0.9))\n",
    "legend(off)\n",
    ";\n",
    "#d cr\n",
    "graph export \"Results/Figures/figure2.pdf\", replace\n",
    "\n",
    "\n",
    "**************************************************************************\n",
    "*** Write to Latex\n",
    "**************************************************************************\n",
    "file open f using \"Results/Figures/figure2.tex\", write replace\n",
    "file write f \"\\begin{figure}[p]\\captionsetup{justification=centering,singlelinecheck=false,width=0.8\\textwidth}\" _n\n",
    "file write f \"\\begin{center}\" _n\n",
    "file write f \"\\caption{Canal usage measured by tribute rice transportation} \" _n\n",
    "file write f \"\\includegraphics[width=.8\\textwidth]{Figures/figure2.pdf} \\\\ \" _n\n",
    "file write f \"\\end{center}\" _n\n",
    "file write f \"\\footnotesize{\\textit{Note.} The figure depicts the amount of tribute grains transported via the canal between 1755 and 1860. } \"\n",
    "file write f \"The vertical solid line marks the 1826 treatment date. \"\n",
    "file write f \"The fitted lines depict the linear trend of grain shipping before and after the treatment date. \"\n",
    "file write f \"\\end{figure}\" _n\n",
    "file close f"
   ]
  }
 ],
 "metadata": {
  "kernelspec": {
   "display_name": "Stata",
   "language": "stata",
   "name": "stata"
  },
  "language_info": {
   "codemirror_mode": "stata",
   "file_extension": ".do",
   "mimetype": "text/x-stata",
   "name": "stata",
   "version": "15.1"
  },
  "toc": {
   "toc_cell": false,
   "toc_number_sections": true,
   "toc_threshold": 6,
   "toc_window_display": false
  }
 },
 "nbformat": 4,
 "nbformat_minor": 5
}
