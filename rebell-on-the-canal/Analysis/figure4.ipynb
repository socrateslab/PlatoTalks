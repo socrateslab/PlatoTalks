{
 "cells": [
  {
   "cell_type": "code",
   "execution_count": 1,
   "id": "85496b3e",
   "metadata": {
    "ExecuteTime": {
     "end_time": "2022-05-14T07:33:05.368833Z",
     "start_time": "2022-05-14T07:33:05.290998Z"
    }
   },
   "outputs": [
    {
     "name": "stdout",
     "output_type": "stream",
     "text": [
      "/Users/chengjun/OneDrive - 南京大学/10papers/causal_inference_references/RebelCa\n",
      "> nal157781-V1/Program\n"
     ]
    }
   ],
   "source": [
    "cd .."
   ]
  },
  {
   "cell_type": "code",
   "execution_count": 2,
   "id": "c18dff46",
   "metadata": {
    "ExecuteTime": {
     "end_time": "2022-05-14T07:33:05.985533Z",
     "start_time": "2022-05-14T07:33:05.962159Z"
    }
   },
   "outputs": [
    {
     "name": "stdout",
     "output_type": "stream",
     "text": [
      "/Users/chengjun/OneDrive - 南京大学/10papers/causal_inference_references/RebelCa\n",
      "> nal157781-V1\n"
     ]
    }
   ],
   "source": [
    "cd .."
   ]
  },
  {
   "cell_type": "code",
   "execution_count": 3,
   "id": "4106fd3e",
   "metadata": {
    "ExecuteTime": {
     "end_time": "2022-05-14T07:33:07.780842Z",
     "start_time": "2022-05-14T07:33:06.737622Z"
    }
   },
   "outputs": [
    {
     "name": "stdout",
     "output_type": "stream",
     "text": [
      "\n",
      "  [1]              \"/Users/chengjun/Library/Application Support/Stata/ado/plus/\"\n",
      "  [2]  (BASE)      \"/Applications/Stata/ado/base/\"\n",
      "  [3]  (SITE)      \"/Applications/Stata/ado/site/\"\n",
      "  [4]              \".\"\n",
      "  [5]  (PERSONAL)  \"/Users/chengjun/Documents/Stata/ado/personal/\"\n",
      "  [6]  (PLUS)      \"/Users/chengjun/Library/Application Support/Stata/ado/plus/\"\n",
      "  [7]  (OLDPLACE)  \"~/ado/\"\n",
      "  [8]              \"/opt/anaconda3/lib/python3.8/site-packages/stata_kernel/ado\"\n",
      "\n",
      "\n",
      "\n",
      "not available in non-GUI version\n",
      "\n"
     ]
    }
   ],
   "source": [
    "**************************************************************************\n",
    "*** Set up\n",
    "**************************************************************************\n",
    "\n",
    "adopath ++ \"/Users/chengjun/Library/Application Support/Stata/ado/plus/\"\n",
    "use \"Data/Final/rebellion.dta\", clear\n",
    "run \"Program/Analysis/generalsetup.do\"\n",
    "graph set window fontface \"Cambria\"\n",
    "set scheme s2color"
   ]
  },
  {
   "cell_type": "code",
   "execution_count": 4,
   "id": "6c83ae5a",
   "metadata": {
    "ExecuteTime": {
     "end_time": "2022-05-14T07:33:18.899223Z",
     "start_time": "2022-05-14T07:33:08.057204Z"
    }
   },
   "outputs": [
    {
     "name": "stdout",
     "output_type": "stream",
     "text": [
      "\n",
      "\n",
      "(66,700 real changes made)\n",
      "\n",
      "\n",
      "    aperiod |      Freq.     Percent        Cum.\n",
      "------------+-----------------------------------\n",
      "        -60 |     72,450       48.09       48.09\n",
      "        -50 |      5,750        3.82       51.91\n",
      "        -40 |      5,750        3.82       55.73\n",
      "        -30 |      5,750        3.82       59.54\n",
      "        -20 |      5,750        3.82       63.36\n",
      "        -10 |      5,750        3.82       67.18\n",
      "          0 |      5,750        3.82       70.99\n",
      "         10 |      5,750        3.82       74.81\n",
      "         20 |      5,750        3.82       78.63\n",
      "         30 |      5,750        3.82       82.44\n",
      "         40 |      5,750        3.82       86.26\n",
      "         50 |      5,750        3.82       90.08\n",
      "         60 |      5,750        3.82       93.89\n",
      "         70 |      5,750        3.82       97.71\n",
      "         80 |      3,450        2.29      100.00\n",
      "------------+-----------------------------------\n",
      "      Total |    150,650      100.00\n",
      "\n",
      "(9,200 observations deleted)\n",
      "\n",
      "(MWFE estimator converged in 3 iterations)\n",
      "note: c.alongcanal#c.aperiod14 omitted because of collinearity\n",
      "note: c.alongcanal#c.aperiod15 omitted because of collinearity\n",
      "\n",
      "HDFE Linear regression                            Number of obs   =    131,856\n",
      "Absorbing 4 HDFE groups                           F(  27,    535) =       4.69\n",
      "Statistics robust to heteroskedasticity           Prob > F        =     0.0000\n",
      "                                                  R-squared       =     0.0690\n",
      "                                                  Adj R-squared   =     0.0526\n",
      "                                                  Within R-sq.    =     0.0034\n",
      "Number of clusters (OBJECTID) =        536        Root MSE        =     0.3730\n",
      "\n",
      "                              (Std. err. adjusted for 536 clusters in OBJECTID)\n",
      "-------------------------------------------------------------------------------\n",
      "              |               Robust\n",
      "ashonset_c~00 | Coefficient  std. err.      t    P>|t|     [95% conf. interval]\n",
      "--------------+----------------------------------------------------------------\n",
      " c.alongcanal#|\n",
      "   c.aperiod2 |   .0067395   .0140495     0.48   0.632    -.0208594    .0343384\n",
      "              |\n",
      " c.alongcanal#|\n",
      "   c.aperiod3 |  -.0079134   .0158464    -0.50   0.618    -.0390423    .0232155\n",
      "              |\n",
      " c.alongcanal#|\n",
      "   c.aperiod4 |   -.005387   .0029247    -1.84   0.066    -.0111323    .0003583\n",
      "              |\n",
      " c.alongcanal#|\n",
      "   c.aperiod5 |  -.0158424   .0149262    -1.06   0.289    -.0451635    .0134787\n",
      "              |\n",
      " c.alongcanal#|\n",
      "   c.aperiod6 |   .0004421   .0222245     0.02   0.984    -.0432159       .0441\n",
      "              |\n",
      " c.alongcanal#|\n",
      "   c.aperiod7 |    .067923   .0304217     2.23   0.026     .0081622    .1276837\n",
      "              |\n",
      " c.alongcanal#|\n",
      "   c.aperiod8 |   .0315838   .0349182     0.90   0.366    -.0370098    .1001775\n",
      "              |\n",
      " c.alongcanal#|\n",
      "   c.aperiod9 |   .0667128   .0507049     1.32   0.189    -.0328922    .1663179\n",
      "              |\n",
      " c.alongcanal#|\n",
      "  c.aperiod10 |   .1073448   .0531469     2.02   0.044     .0029425     .211747\n",
      "              |\n",
      " c.alongcanal#|\n",
      "  c.aperiod11 |      .0288   .0445439     0.65   0.518    -.0587023    .1163023\n",
      "              |\n",
      " c.alongcanal#|\n",
      "  c.aperiod12 |   .0011614   .0323428     0.04   0.971    -.0623731    .0646958\n",
      "              |\n",
      " c.alongcanal#|\n",
      "  c.aperiod13 |  -.0089735   .0283952    -0.32   0.752    -.0647533    .0468062\n",
      "              |\n",
      " c.alongcanal#|\n",
      "  c.aperiod14 |          0  (omitted)\n",
      "              |\n",
      " c.alongcanal#|\n",
      "  c.aperiod15 |          0  (omitted)\n",
      "              |\n",
      "  larea_after |    .036165   .0078913     4.58   0.000     .0206633    .0516668\n",
      "    rug_after |  -.0003138   .0000478    -6.57   0.000    -.0004076   -.0002199\n",
      "     disaster |  -.0029354   .0041217    -0.71   0.477     -.011032    .0051612\n",
      "disaster_af~r |   -.001595   .0118803    -0.13   0.893    -.0249328    .0217428\n",
      "     flooding |   .0024554   .0037599     0.65   0.514    -.0049306    .0098415\n",
      "      drought |   .0061813   .0031954     1.93   0.054    -.0000957    .0124583\n",
      "flooding_af~r |   .0088423   .0216034     0.41   0.682    -.0335956    .0512801\n",
      "drought_after |  -.0019107   .0138891    -0.14   0.891    -.0291945    .0253731\n",
      "lpopdencnty~r |  -.0236801   .0048406    -4.89   0.000    -.0331891   -.0141712\n",
      "        maize |  -.0036865   .0044513    -0.83   0.408    -.0124308    .0050577\n",
      "  maize_after |   .0319438   .0152868     2.09   0.037     .0019142    .0619734\n",
      "  sweetpotato |  -.0066374   .0035673    -1.86   0.063     -.013645    .0003701\n",
      "sweetpotato~r |    .001409    .010966     0.13   0.898    -.0201326    .0229507\n",
      "  wheat_after |    .032887   .0123692     2.66   0.008     .0085889    .0571851\n",
      "   rice_after |  -.0007024   .0164715    -0.04   0.966    -.0330592    .0316545\n",
      "        _cons |  -.0237247   .0179065    -1.32   0.186    -.0589004    .0114511\n",
      "-------------------------------------------------------------------------------\n",
      "\n",
      "Absorbed degrees of freedom:\n",
      "-------------------------------------------------------------+\n",
      "         Absorbed FE | Categories  - Redundant  = Num. Coefs |\n",
      "---------------------+---------------------------------------|\n",
      "            OBJECTID |       536         536           0    *|\n",
      "                year |       246           1         245     |\n",
      " year#c.ashprerebels |       246           0         246    ?|\n",
      "         provid#year |      1476         246        1230     |\n",
      "-------------------------------------------------------------+\n",
      "? = number of redundant parameters may be higher\n",
      "* = FE nested within cluster; treated as redundant for DoF computation\n",
      "\n",
      "\n",
      "\n",
      "(141,450 missing values generated)\n",
      "\n",
      "(141,450 missing values generated)\n",
      "\n",
      "(1 real change made)\n",
      "(1 real change made)\n",
      "(1 real change made)\n",
      "(1 real change made)\n",
      "(1 real change made)\n",
      "(1 real change made)\n",
      "(1 real change made)\n",
      "(1 real change made)\n",
      "(1 real change made)\n",
      "(1 real change made)\n",
      "(1 real change made)\n",
      "(1 real change made)\n",
      "(1 real change made)\n",
      "(1 real change made)\n",
      "(1 real change made)\n",
      "(1 real change made)\n",
      "(1 real change made)\n",
      "(1 real change made)\n",
      "(1 real change made)\n",
      "(1 real change made)\n",
      "(1 real change made)\n",
      "(1 real change made)\n",
      "(1 real change made)\n",
      "(1 real change made)\n",
      "\n",
      "(141,438 missing values generated)\n",
      "\n",
      "(141,438 missing values generated)\n",
      "\n",
      "\n",
      "(141,438 observations deleted)\n",
      "\n",
      "\n",
      "\n",
      "file /Users/chengjun/.stata_kernel_cache/graph.svg saved as SVG format\n",
      "file /Users/chengjun/.stata_kernel_cache/graph.pdf saved as PDF format\n",
      "\n",
      "file Results/Figures/figure4.pdf saved as PDF format\n"
     ]
    }
   ],
   "source": [
    "**************************************************************************\n",
    "*** Figure4: Canal closure and rebellions: event study\n",
    "**************************************************************************\n",
    "gen aperiod=floor((year-1826)/10)*10 \n",
    "replace aperiod=-60 if aperiod<-60\n",
    "tab aperiod, gen(aperiod)\n",
    "keep if aperiod<70\n",
    "\n",
    "reghdfe $Y c.alongcanal#(c.aperiod2-aperiod15) $ctrls, absorb(i.OBJECTID i.year c.ashprerebels#i.year i.provid#i.year) cluster(OBJECTID)\n",
    "matrix coef = e(b) \n",
    "matrix cov = e(V) \n",
    "gen coef = .\n",
    "gen se = .\n",
    "forvalues i = 1(1)12 {\n",
    "\treplace coef = coef[1,`i'] if _n==`i'\n",
    "\treplace se = sqrt(cov[`i',`i']) if _n==`i'\n",
    "}\n",
    "gen lb=coef-invttail(e(df_r),0.025)*se \n",
    "gen ub=coef+invttail(e(df_r),0.025)*se \n",
    "keep coef se lb ub\n",
    "drop if coef == .\n",
    "gen year=_n\n",
    "\n",
    "#d ;\n",
    "twoway \n",
    "(rarea ub lb year, color(\"193 205 205%80\"))\n",
    "(scatter coef year, color(gs0) msize(*0.75))\n",
    "(line coef year, lpattern(solid) lcolor(\"4 4 4\"))\n",
    ",\n",
    "ytitle(\"Coefficients\", size(*0.9)) \n",
    "xtitle(\"Number of years since the 1826 reform\", size(*0.9) margin(medsmall))\n",
    "yline(-0.05(0.025)0.2, lstyle(grid) lwidth(thin) lcolor(\"235 235 235\"))\n",
    "xline(1(0.5)12, lstyle(grid) lwidth(thin) lcolor(\"235 235 235\"))\n",
    "yline(0, lpattern(dash) lcolor(\"128 0 0\"))\n",
    "xline(5.5, lpattern(dash) lcolor(\"128 0 0\"))\n",
    "ylabel(-0.05(0.05)0.2, angle(0) format(%5.2f) labsize(*0.85))\n",
    "xlabel(1 \"-50\" 2 \"-40\" 3 \"-30\" 4 \"-20\" 5 \"-10\" 6 \"10\" 7 \"20\" 8 \"30\" 9 \"40\" 10 \"50\" 11 \"60\" 12 \"70\", labsize(*0.85)) \n",
    "graphregion(fcolor(gs16) lcolor(gs16)) \n",
    "plotregion(lcolor(\"white\") lwidth(*0.9))\n",
    "legend(off)\n",
    ";\n",
    "#d cr\n",
    "graph export \"Results/Figures/figure4.pdf\", replace"
   ]
  },
  {
   "cell_type": "code",
   "execution_count": 5,
   "id": "df54963d",
   "metadata": {
    "ExecuteTime": {
     "end_time": "2022-05-14T07:33:41.132024Z",
     "start_time": "2022-05-14T07:33:37.141243Z"
    }
   },
   "outputs": [
    {
     "name": "stdout",
     "output_type": "stream",
     "text": [
      "(file Results/Figures/figure4.png not found)\n",
      "file Results/Figures/figure4.png written in PNG format\n"
     ]
    }
   ],
   "source": [
    "graph export \"Results/Figures/figure4.png\", replace"
   ]
  },
  {
   "attachments": {
    "figure4.png": {
     "image/png": "[encoded data removed]"
    }
   },
   "cell_type": "markdown",
   "id": "3eef8e19",
   "metadata": {},
   "source": [
    "![figure4.png](attachment:figure4.png)"
   ]
  },
  {
   "cell_type": "code",
   "execution_count": 6,
   "id": "9c715b70",
   "metadata": {
    "ExecuteTime": {
     "end_time": "2022-05-14T07:35:38.351639Z",
     "start_time": "2022-05-14T07:35:38.216339Z"
    }
   },
   "outputs": [
    {
     "name": "stdout",
     "output_type": "stream",
     "text": [
      "\n",
      "(file Results/Figures/figure4.tex not found)\n",
      "\n",
      "\n",
      "\n",
      "\n",
      "\n",
      "\n",
      "\n",
      "\n",
      "\n",
      "\n",
      "\n",
      "\n",
      "\n"
     ]
    }
   ],
   "source": [
    "\n",
    "**************************************************************************\n",
    "*** Write to Latex\n",
    "**************************************************************************\n",
    "file open f using \"Results/Figures/figure4.tex\", write replace\n",
    "file write f \"\\begin{figure}[p]\\captionsetup{justification=centering,singlelinecheck=false,width=0.8\\textwidth}\" _n\n",
    "file write f \"\\begin{center}\" _n\n",
    "file write f \"\\caption{Canal closure and rebellions: event study} \" _n\n",
    "file write f \"\\includegraphics[width=.8\\textwidth]{Figures/figure4.pdf} \\\\ \" _n\n",
    "file write f \"\\end{center}\" _n\n",
    "file write f \"\\footnotesize{\\textit{Note.} The figure depicts the differences in rebellions between canal versus non-canal counties before and after the 1826 reform. \"\n",
    "file write f \"The markers and capped spikes represent the OLS estimators and 95\\% confidence intervals based on standard errors clustered at the county level. \"\n",
    "file write f \"The dependent variable is the inverse hyperbolic sine transformation of the number of rebellions normalized by 1600 population. \"\n",
    "file write f \"The dashed vertical line represents the 1826 treatment date, and the periods are grouped every 10 years relative to 1826 (i.e., ``-10'' represents the 1816--1825 period, ``10'' represents the 1826--1835 period, etc.. ) \"\n",
    "file write f \"The reference groups are the years more than 50 years before 1826. \"\n",
    "file write f \"The regression considers county fixed effects, year fixed effects, pre-treatment rebelliousness $ \\times $ year fixed effects, and province $ \\times $ year fixed effects. }\"\n",
    "file write f \"\\end{figure}\" _n\n",
    "file close f"
   ]
  },
  {
   "cell_type": "code",
   "execution_count": null,
   "id": "cc6155cb",
   "metadata": {},
   "outputs": [],
   "source": []
  }
 ],
 "metadata": {
  "kernelspec": {
   "display_name": "Stata",
   "language": "stata",
   "name": "stata"
  },
  "language_info": {
   "codemirror_mode": "stata",
   "file_extension": ".do",
   "mimetype": "text/x-stata",
   "name": "stata",
   "version": "15.1"
  },
  "toc": {
   "toc_cell": false,
   "toc_number_sections": true,
   "toc_threshold": 6,
   "toc_window_display": false
  }
 },
 "nbformat": 4,
 "nbformat_minor": 5
}
